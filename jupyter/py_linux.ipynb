{
 "cells": [
  {
   "cell_type": "markdown",
   "metadata": {},
   "source": [
    "# sys"
   ]
  },
  {
   "cell_type": "code",
   "execution_count": 1,
   "metadata": {},
   "outputs": [
    {
     "data": {
      "text/plain": [
       "'3.7.0 (default, Jun 28 2018, 13:15:42) \\n[GCC 7.2.0]'"
      ]
     },
     "execution_count": 1,
     "metadata": {},
     "output_type": "execute_result"
    }
   ],
   "source": [
    "import sys, psutil\n",
    "sys.version"
   ]
  },
  {
   "cell_type": "code",
   "execution_count": 2,
   "metadata": {},
   "outputs": [
    {
     "data": {
      "text/plain": [
       "['',\n",
       " '/data/scripts/jupyter',\n",
       " '/opt/conda/lib/python37.zip',\n",
       " '/opt/conda/lib/python3.7',\n",
       " '/opt/conda/lib/python3.7/lib-dynload',\n",
       " '/opt/conda/lib/python3.7/site-packages',\n",
       " '/opt/conda/lib/python3.7/site-packages/IPython/extensions',\n",
       " '/root/.ipython']"
      ]
     },
     "execution_count": 2,
     "metadata": {},
     "output_type": "execute_result"
    }
   ],
   "source": [
    "sys.path"
   ]
  },
  {
   "cell_type": "code",
   "execution_count": 3,
   "metadata": {},
   "outputs": [
    {
     "data": {
      "text/plain": [
       "'linux'"
      ]
     },
     "execution_count": 3,
     "metadata": {},
     "output_type": "execute_result"
    }
   ],
   "source": [
    "sys.platform"
   ]
  },
  {
   "cell_type": "markdown",
   "metadata": {},
   "source": [
    "https://psutil.readthedocs.io/en/latest/"
   ]
  },
  {
   "cell_type": "code",
   "execution_count": 5,
   "metadata": {},
   "outputs": [
    {
     "name": "stdout",
     "output_type": "stream",
     "text": [
      "4\n"
     ]
    },
    {
     "data": {
      "text/plain": [
       "[psutil.Process(pid=1, name='tini', started='2018-10-30 10:32:57'),\n",
       " psutil.Process(pid=6, name='ZMQbg/1', started='2018-10-30 10:32:57'),\n",
       " psutil.Process(pid=27, name='ZMQbg/1', started='2018-10-30 10:39:56'),\n",
       " psutil.Process(pid=22870, name='ZMQbg/1', started='18:59:31')]"
      ]
     },
     "execution_count": 5,
     "metadata": {},
     "output_type": "execute_result"
    }
   ],
   "source": [
    "processes = list(psutil.process_iter())\n",
    "print(len(processes))\n",
    "processes"
   ]
  },
  {
   "cell_type": "code",
   "execution_count": 9,
   "metadata": {
    "scrolled": true
   },
   "outputs": [
    {
     "name": "stdout",
     "output_type": "stream",
     "text": [
      "7.67 GB total\n",
      "2.19 GB available\n",
      "71.4 percent\n",
      "3.52 GB used\n",
      "0.41 GB free\n",
      "5.43 GB active\n",
      "1.28 GB inactive\n",
      "0.13 GB buffers\n",
      "3.62 GB cached\n",
      "1.67 GB shared\n",
      "0.38 GB slab\n"
     ]
    }
   ],
   "source": [
    "int2gb = lambda x: \"%.2f GB\" % float( int(x)/1024/1024/1024 ) if x > 1e8 else x\n",
    "\n",
    "m = psutil.virtual_memory()\n",
    "for a in m._fields: \n",
    "    print(int2gb(getattr(m, a)), a)"
   ]
  },
  {
   "cell_type": "code",
   "execution_count": 10,
   "metadata": {},
   "outputs": [
    {
     "name": "stdout",
     "output_type": "stream",
     "text": [
      "CPU count - Pysical: 1 / Logical: 1\n"
     ]
    }
   ],
   "source": [
    "print(\"CPU count - Pysical: \" + str( psutil.cpu_count(logical=False) ) + \" / Logical: \" + str( psutil.cpu_count() ) )"
   ]
  },
  {
   "cell_type": "markdown",
   "metadata": {},
   "source": [
    "# pathlib"
   ]
  },
  {
   "cell_type": "code",
   "execution_count": 24,
   "metadata": {},
   "outputs": [
    {
     "data": {
      "text/plain": [
       "PosixPath('/data/scripts/jupyter')"
      ]
     },
     "execution_count": 24,
     "metadata": {},
     "output_type": "execute_result"
    }
   ],
   "source": [
    "from pathlib import Path\n",
    "p = Path('.')\n",
    "p.absolute()"
   ]
  },
  {
   "cell_type": "code",
   "execution_count": 25,
   "metadata": {},
   "outputs": [
    {
     "data": {
      "text/plain": [
       "[PosixPath('.ipynb_checkpoints')]"
      ]
     },
     "execution_count": 25,
     "metadata": {},
     "output_type": "execute_result"
    }
   ],
   "source": [
    "[x for x in p.iterdir() if x.is_dir()]"
   ]
  },
  {
   "cell_type": "code",
   "execution_count": 26,
   "metadata": {},
   "outputs": [
    {
     "data": {
      "text/plain": [
       "PosixPath('/data/scripts/jupyter')"
      ]
     },
     "execution_count": 26,
     "metadata": {},
     "output_type": "execute_result"
    }
   ],
   "source": [
    "p.absolute()"
   ]
  },
  {
   "cell_type": "code",
   "execution_count": 27,
   "metadata": {},
   "outputs": [
    {
     "data": {
      "text/plain": [
       "[PosixPath('../bbr_enable.sh'),\n",
       " PosixPath('../deprecated/net_bridge-create--name--port--dhcp_or_manual.sh')]"
      ]
     },
     "execution_count": 27,
     "metadata": {},
     "output_type": "execute_result"
    }
   ],
   "source": [
    "sorted(p.glob(\"../**/*.sh\"))[:2]"
   ]
  },
  {
   "cell_type": "code",
   "execution_count": 29,
   "metadata": {},
   "outputs": [
    {
     "data": {
      "text/plain": [
       "os.stat_result(st_mode=16877, st_ino=24664, st_dev=64769, st_nlink=3, st_uid=0, st_gid=0, st_size=4096, st_atime=1541690493, st_mtime=1543604852, st_ctime=1543604852)"
      ]
     },
     "execution_count": 29,
     "metadata": {},
     "output_type": "execute_result"
    }
   ],
   "source": [
    "p.stat()"
   ]
  },
  {
   "cell_type": "code",
   "execution_count": null,
   "metadata": {},
   "outputs": [],
   "source": [
    "searchedfiles = sorted(glob.glob(\"*cycle*.log\"), key=os.path.getmtime)"
   ]
  },
  {
   "cell_type": "markdown",
   "metadata": {},
   "source": [
    "# subprocess"
   ]
  },
  {
   "cell_type": "code",
   "execution_count": 96,
   "metadata": {},
   "outputs": [],
   "source": [
    "import subprocess\n",
    "p = subprocess.Popen(\"df -h\", stdout=subprocess.PIPE, shell=True)"
   ]
  },
  {
   "cell_type": "markdown",
   "metadata": {},
   "source": [
    "https://docs.python.org/3.7/library/subprocess.html#subprocess.Popen.stderr  \n",
    "Warning Use communicate() rather than .stdin.write, .stdout.read or .stderr.read to avoid deadlocks due to any of the other OS pipe buffers filling up and blocking the child process."
   ]
  },
  {
   "cell_type": "code",
   "execution_count": null,
   "metadata": {},
   "outputs": [],
   "source": [
    "p.stdout.readlines() # Use communicate() instead, see reason above"
   ]
  },
  {
   "cell_type": "markdown",
   "metadata": {},
   "source": [
    "https://docs.python.org/3.7/library/subprocess.html#subprocess.Popen.communicate  \n",
    "communicate() returns a tuple (stdout_data, stderr_data). The data will be strings if streams were opened in text mode; otherwise, bytes.\n",
    "\n",
    "*Note The data read is buffered in memory, so do not use this method if the data size is large or unlimited.*"
   ]
  },
  {
   "cell_type": "code",
   "execution_count": 97,
   "metadata": {},
   "outputs": [],
   "source": [
    "stdout, stderr = p.communicate()"
   ]
  },
  {
   "cell_type": "code",
   "execution_count": 98,
   "metadata": {},
   "outputs": [
    {
     "data": {
      "text/plain": [
       "(b'Filesystem      Size  Used Avail Use% Mounted on\\noverlay          50G   44G  3.6G  93% /\\ntmpfs            64M     0   64M   0% /dev\\ntmpfs           3.9G     0  3.9G   0% /sys/fs/cgroup\\n/dev/vda1        50G   44G  3.6G  93% /data\\nshm              64M     0   64M   0% /dev/shm\\ntmpfs           3.9G     0  3.9G   0% /proc/acpi\\ntmpfs           3.9G     0  3.9G   0% /proc/scsi\\ntmpfs           3.9G     0  3.9G   0% /sys/firmware\\n',\n",
       " None)"
      ]
     },
     "execution_count": 98,
     "metadata": {},
     "output_type": "execute_result"
    }
   ],
   "source": [
    "stdout, stderr"
   ]
  },
  {
   "cell_type": "code",
   "execution_count": 112,
   "metadata": {},
   "outputs": [
    {
     "data": {
      "text/plain": [
       "['Filesystem      Size  Used Avail Use% Mounted on',\n",
       " 'tmpfs           3.9G     0  3.9G   0% /proc/acpi',\n",
       " 'tmpfs           3.9G     0  3.9G   0% /proc/scsi']"
      ]
     },
     "execution_count": 112,
     "metadata": {},
     "output_type": "execute_result"
    }
   ],
   "source": [
    "stdout_list = stdout.decode().splitlines()\n",
    "stdout_list[:1] + [x for x in stdout_list if 'proc' in x]"
   ]
  }
 ],
 "metadata": {
  "anaconda-cloud": {},
  "kernelspec": {
   "display_name": "Python 3",
   "language": "python",
   "name": "python3"
  },
  "language_info": {
   "codemirror_mode": {
    "name": "ipython",
    "version": 3
   },
   "file_extension": ".py",
   "mimetype": "text/x-python",
   "name": "python",
   "nbconvert_exporter": "python",
   "pygments_lexer": "ipython3",
   "version": "3.7.0"
  }
 },
 "nbformat": 4,
 "nbformat_minor": 1
}
