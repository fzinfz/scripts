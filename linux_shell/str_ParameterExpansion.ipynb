{
 "cells": [
  {
   "cell_type": "markdown",
   "metadata": {},
   "source": [
    "https://www.gnu.org/savannah-checkouts/gnu/bash/manual/bash.html#Shell-Parameter-Expansion\n",
    "\n",
    "https://opensource.com/article/17/6/bash-parameter-expansion\n",
    "\n",
    "|parameter expansion|unset var|var=\"\"|var=\"gnu\"|\n",
    "|---|---|---|---|\n",
    "|{var-default}|default|—|gnu|\n",
    "|{var:-default}|default|default|gnu|\n",
    "|{var+alternate}|—|alternate|alternate|\n",
    "|{var:+alternate}|—|—|alternate|\n",
    "|{var?error}|error|—|gnu|\n",
    "|{var:?error}|error|error|gnu|\n",
    "\n",
    "https://serverfault.com/a/382740/371265\n",
    "\n",
    "```\n",
    "                            +-------+-------+-----------+\n",
    "                    VAR is: | unset | empty | non-empty |\n",
    "    +-----------------------+-------+-------+-----------+\n",
    "    | [ -z \"${VAR}\" ]       | true  | true  | false     |\n",
    "    | [ -z \"${VAR+set}\" ]   | true  | false | false     |\n",
    "    | [ -z \"${VAR-unset}\" ] | false | true  | false     |\n",
    "    | [ -n \"${VAR}\" ]       | false | false | true      |\n",
    "    | [ -n \"${VAR+set}\" ]   | false | true  | true      |\n",
    "    | [ -n \"${VAR-unset}\" ] | true  | false | true      |\n",
    "    +-----------------------+-------+-------+-----------+\n",
    "```"
   ]
  },
  {
   "cell_type": "code",
   "execution_count": 1,
   "metadata": {},
   "outputs": [
    {
     "data": {
      "text/plain": [
       "0\r\n",
       "unset -\r\n",
       "unset :-\r\n",
       "unset\r\n",
       "unset -\r\n",
       "unset :-"
      ]
     },
     "execution_count": 1,
     "metadata": {},
     "output_type": "execute_result"
    }
   ],
   "source": [
    "unset var_unset\n",
    "echo ${#var_unset}\n",
    "echo ${var_unset-\"unset -\"}\n",
    "echo ${var_unset:-\"unset :-\"}\n",
    "[ -z \"${var_unset}\" ]    && echo \"unset\"\n",
    "[ -z \"${var_unset-}\" ]   && echo \"unset -\"\n",
    "[ -z \"${var_unset:-}\" ]  && echo \"unset :-\""
   ]
  },
  {
   "cell_type": "code",
   "execution_count": 2,
   "metadata": {},
   "outputs": [
    {
     "data": {
      "text/plain": [
       "0\r\n",
       "\r\n",
       "empty :-\r\n",
       "empty\r\n",
       "empty -\r\n",
       "empty :-"
      ]
     },
     "execution_count": 2,
     "metadata": {},
     "output_type": "execute_result"
    }
   ],
   "source": [
    "var_empty=\"\"\n",
    "echo ${#var_empty}\n",
    "echo ${var_empty-\"empty -\"}\n",
    "echo ${var_empty:-\"empty :-\"}\n",
    "[ -z \"${var_empty}\" ]    && echo \"empty\"\n",
    "[ -z \"${var_empty-}\" ]   && echo \"empty -\"\n",
    "[ -z \"${var_empty:-}\" ]  && echo \"empty :-\""
   ]
  },
  {
   "cell_type": "code",
   "execution_count": 3,
   "metadata": {},
   "outputs": [
    {
     "data": {
      "text/plain": [
       "1\r\n",
       "2\r\n",
       "3"
      ]
     },
     "execution_count": 3,
     "metadata": {},
     "output_type": "execute_result"
    }
   ],
   "source": [
    "[ \"${var_unset}\" ]  &&  echo \"unset # no echo\"\n",
    "[ \"${var_unset-}\" ] &&  echo \"unset->empty # no echo\"\n",
    "[ \"${var_unset:-}\" ] && echo \"unset->empty # no echo\"\n",
    "\n",
    "[ -z \"${var_unset}\" ]  && echo 1\n",
    "[ -z \"${var_unset-}\" ] && echo 2\n",
    "[ -z \"${var_unset:-}\" ] && echo 3"
   ]
  },
  {
   "cell_type": "code",
   "execution_count": 4,
   "metadata": {},
   "outputs": [
    {
     "data": {
      "text/plain": [
       "1\r\n",
       "2\r\n",
       "3"
      ]
     },
     "execution_count": 4,
     "metadata": {},
     "output_type": "execute_result"
    }
   ],
   "source": [
    "[ \"${var_empty}\" ]   && echo \"empty # no echo\"\n",
    "[ \"${var_empty-}\" ]  && echo \"empty->unset # no echo\"\n",
    "[ \"${var_empty:-}\" ] && echo \"empty # no echo\"\n",
    "\n",
    "[ -z \"${var_empty}\" ]  && echo 1\n",
    "[ -z \"${var_empty-}\" ] && echo 2\n",
    "[ -z \"${var_empty:-}\" ] && echo 3"
   ]
  }
 ],
 "metadata": {
  "kernelspec": {
   "display_name": "MetaKernel Bash",
   "language": "bash",
   "name": "metakernel_bash"
  },
  "language_info": {
   "file_extension": ".sh",
   "help_links": [
    {
     "text": "MetaKernel Magics",
     "url": "https://metakernel.readthedocs.io/en/latest/source/README.html"
    }
   ],
   "mimetype": "text/x-bash",
   "name": "bash"
  }
 },
 "nbformat": 4,
 "nbformat_minor": 4
}
