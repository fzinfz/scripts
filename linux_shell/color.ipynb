{
 "cells": [
  {
   "cell_type": "markdown",
   "metadata": {},
   "source": [
    "https://en.wikipedia.org/wiki/ANSI_escape_code#Colors\n",
    "\n",
    "https://stackoverflow.com/questions/5947742/how-to-change-the-output-color-of-echo-in-linux"
   ]
  },
  {
   "cell_type": "code",
   "execution_count": 1,
   "metadata": {},
   "outputs": [
    {
     "name": "stdout",
     "output_type": "stream",
     "text": [
      "/dev/pts/2\n"
     ]
    }
   ],
   "source": [
    "tty"
   ]
  },
  {
   "cell_type": "code",
   "execution_count": 7,
   "metadata": {},
   "outputs": [
    {
     "name": "stdout",
     "output_type": "stream",
     "text": [
      "pts\n"
     ]
    }
   ],
   "source": [
    "[ \"$(tty | grep pts | wc -l)\" -eq 1 ] && echo pts"
   ]
  },
  {
   "cell_type": "code",
   "execution_count": 17,
   "metadata": {},
   "outputs": [
    {
     "name": "stdout",
     "output_type": "stream",
     "text": [
      "31: \u001b[31mHello world\u001b[0m\n",
      "91: \u001b[91mHello world\u001b[0m\n",
      "32: \u001b[32mHello world\u001b[0m\n",
      "92: \u001b[92mHello world\u001b[0m\n",
      "33: \u001b[33mHello world\u001b[0m\n",
      "93: \u001b[93mHello world\u001b[0m\n",
      "34: \u001b[34mHello world\u001b[0m\n",
      "94: \u001b[94mHello world\u001b[0m\n",
      "35: \u001b[35mHello world\u001b[0m\n",
      "95: \u001b[95mHello world\u001b[0m\n"
     ]
    }
   ],
   "source": [
    "for i in $(seq 5); do\n",
    "    for h in 3 9; do\n",
    "      echo -e \"${h}${i}: \\033[${h}${i}mHello world\\e[0m\";\n",
    "    done\n",
    "done"
   ]
  },
  {
   "cell_type": "code",
   "execution_count": 20,
   "metadata": {},
   "outputs": [
    {
     "name": "stdout",
     "output_type": "stream",
     "text": [
      "31: \u001b[31;7m ------ ++++ ======== \u001b[0m\n",
      "91: \u001b[91;7m ------ ++++ ======== \u001b[0m\n",
      "32: \u001b[32;7m ------ ++++ ======== \u001b[0m\n",
      "92: \u001b[92;7m ------ ++++ ======== \u001b[0m\n",
      "33: \u001b[33;7m ------ ++++ ======== \u001b[0m\n",
      "93: \u001b[93;7m ------ ++++ ======== \u001b[0m\n",
      "34: \u001b[34;7m ------ ++++ ======== \u001b[0m\n",
      "94: \u001b[94;7m ------ ++++ ======== \u001b[0m\n",
      "35: \u001b[35;7m ------ ++++ ======== \u001b[0m\n",
      "95: \u001b[95;7m ------ ++++ ======== \u001b[0m\n"
     ]
    }
   ],
   "source": [
    "for i in {1..5}; do\n",
    "    for h in 3 9; do\n",
    "      echo -e \"${h}${i}: \\033[${h}${i};7m ------ ++++ ======== \\e[0m\";\n",
    "    done\n",
    "done"
   ]
  }
 ],
 "metadata": {
  "kernelspec": {
   "display_name": "Bash",
   "language": "bash",
   "name": "bash"
  },
  "language_info": {
   "codemirror_mode": "shell",
   "file_extension": ".sh",
   "mimetype": "text/x-sh",
   "name": "bash"
  }
 },
 "nbformat": 4,
 "nbformat_minor": 2
}
