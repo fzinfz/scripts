{
 "cells": [
  {
   "cell_type": "markdown",
   "metadata": {},
   "source": [
    "http://tldp.org/LDP/abs/html/here-docs.html"
   ]
  },
  {
   "cell_type": "markdown",
   "metadata": {},
   "source": [
    "# Example 19-7. Parameter substitution"
   ]
  },
  {
   "cell_type": "code",
   "execution_count": 33,
   "metadata": {},
   "outputs": [
    {
     "data": {
      "text/plain": [
       "---\r\n",
       "    echo turned on \\ # line 1 \\\r\n",
       "    echo turned on \\ # line 2 \\    4 spaces before, still line 2"
      ]
     },
     "execution_count": 33,
     "metadata": {},
     "output_type": "execute_result"
    }
   ],
   "source": [
    "echo ---\n",
    "x=\"turned on\"\n",
    "cat <<EOF\n",
    "    echo $x \\\\ # line 1 \\\\\n",
    "    echo $x \\ # line 2 \\\\\\\n",
    "    4 spaces before, still line 2\n",
    "EOF"
   ]
  },
  {
   "cell_type": "code",
   "execution_count": 25,
   "metadata": {},
   "outputs": [
    {
     "data": {
      "text/plain": [
       "turned off, same effect\r\n",
       "    echo $x \\\\ # line 1 \\\\\r\n",
       "    echo $x \\\\ # line 1 \\\\\r\n",
       "    echo $x \\\\ # line 1 \\\\"
      ]
     },
     "execution_count": 25,
     "metadata": {},
     "output_type": "execute_result"
    }
   ],
   "source": [
    "echo \"turned off, same effect\"\n",
    "\n",
    "cat <<\"EOF\"\n",
    "    echo $x \\\\ # line 1 \\\\\n",
    "EOF\n",
    "\n",
    "cat <<'EOF'\n",
    "    echo $x \\\\ # line 1 \\\\\n",
    "EOF\n",
    "\n",
    "cat <<\\EOF\n",
    "    echo $x \\\\ # line 1 \\\\\n",
    "EOF"
   ]
  },
  {
   "cell_type": "markdown",
   "metadata": {},
   "source": [
    "# heredoc to var"
   ]
  },
  {
   "cell_type": "code",
   "execution_count": 12,
   "metadata": {},
   "outputs": [
    {
     "data": {
      "text/plain": [
       "a\r\n",
       "bb\r\n",
       "5\r\n",
       "bb"
      ]
     },
     "execution_count": 12,
     "metadata": {},
     "output_type": "execute_result"
    }
   ],
   "source": [
    "variable=$(cat <<SETVAR\n",
    "a\n",
    "bb\n",
    "SETVAR\n",
    ")\n",
    "\n",
    "echo \"$variable\"\n",
    "echo \"$variable\" | wc -m\n",
    "echo \"$variable2\" | grep b"
   ]
  },
  {
   "cell_type": "code",
   "execution_count": 6,
   "metadata": {},
   "outputs": [
    {
     "data": {
      "text/plain": [
       "a\r\n",
       "bb\r\n",
       "5\r\n",
       "bb"
      ]
     },
     "execution_count": 6,
     "metadata": {},
     "output_type": "execute_result"
    }
   ],
   "source": [
    "variable2=\"a\n",
    "bb\"\n",
    "\n",
    "echo \"$variable2\"\n",
    "echo \"$variable2\" | wc -m\n",
    "echo \"$variable2\" | grep b"
   ]
  },
  {
   "cell_type": "markdown",
   "metadata": {},
   "source": [
    "# Example 19-8. A script that generates another script"
   ]
  },
  {
   "cell_type": "code",
   "execution_count": 11,
   "metadata": {},
   "outputs": [
    {
     "data": {
      "text/plain": [
       "6"
      ]
     },
     "execution_count": 11,
     "metadata": {},
     "output_type": "execute_result"
    }
   ],
   "source": [
    "echo \"a\\nbb\" | wc -m"
   ]
  },
  {
   "cell_type": "code",
   "execution_count": 21,
   "metadata": {},
   "outputs": [
    {
     "data": {
      "text/plain": [
       "#!/bin/bash\r\n",
       "echo \"test\""
      ]
     },
     "execution_count": 21,
     "metadata": {},
     "output_type": "execute_result"
    }
   ],
   "source": [
    "(\n",
    "cat <<'EOF'\n",
    "#!/bin/bash\n",
    "echo \"test\"\n",
    "EOF\n",
    ") > /tmp/f1.tmp\n",
    "\n",
    "cat /tmp/f1.tmp"
   ]
  },
  {
   "cell_type": "code",
   "execution_count": null,
   "metadata": {
    "collapsed": true
   },
   "outputs": [],
   "source": [
    "cat <<'EOF' \n",
    "#!/bin/bash\n",
    "echo \"test\"\n",
    "EOF >/tmp/f4.tmp # not working!"
   ]
  },
  {
   "cell_type": "code",
   "execution_count": 23,
   "metadata": {},
   "outputs": [
    {
     "data": {
      "text/plain": [
       "#!/bin/bash\r\n",
       "echo \"test\""
      ]
     },
     "execution_count": 23,
     "metadata": {},
     "output_type": "execute_result"
    }
   ],
   "source": [
    "cat <<'EOF' > /tmp/f2.tmp\n",
    "#!/bin/bash\n",
    "echo \"test\"\n",
    "EOF\n",
    "\n",
    "cat /tmp/f2.tmp"
   ]
  },
  {
   "cell_type": "code",
   "execution_count": 26,
   "metadata": {},
   "outputs": [
    {
     "data": {
      "text/plain": [
       "#!/bin/bash\r\n",
       "echo \"test\""
      ]
     },
     "execution_count": 26,
     "metadata": {},
     "output_type": "execute_result"
    }
   ],
   "source": [
    "cat >/tmp/f3.tmp <<'EOF' \n",
    "#!/bin/bash\n",
    "echo \"test\"\n",
    "EOF\n",
    "\n",
    "cat /tmp/f3.tmp"
   ]
  },
  {
   "cell_type": "markdown",
   "metadata": {},
   "source": [
    "# Example 19-4. Multi-line message, with tabs suppressed"
   ]
  },
  {
   "cell_type": "code",
   "execution_count": 35,
   "metadata": {},
   "outputs": [
    {
     "data": {
      "text/plain": [
       "This is line 1 of the message.\r\n",
       "This is line 2 of the message."
      ]
     },
     "execution_count": 35,
     "metadata": {},
     "output_type": "execute_result"
    }
   ],
   "source": [
    "cat <<-ENDOFMESSAGE\n",
    "\tThis is line 1 of the message.\n",
    "\tThis is line 2 of the message.\n",
    "ENDOFMESSAGE"
   ]
  },
  {
   "cell_type": "code",
   "execution_count": 38,
   "metadata": {},
   "outputs": [
    {
     "data": {
      "text/plain": [
       "preserve indent:\r\n",
       "        This is line 1 of the message. \r\n",
       "        This is line 2 of the message."
      ]
     },
     "execution_count": 38,
     "metadata": {},
     "output_type": "execute_result"
    }
   ],
   "source": [
    "echo preserve indent:\n",
    "cat <<-ENDOFMESSAGE\n",
    "        This is line 1 of the message. \n",
    "        This is line 2 of the message.\n",
    "ENDOFMESSAGE"
   ]
  }
 ],
 "metadata": {
  "kernelspec": {
   "display_name": "MetaKernel Bash",
   "language": "bash",
   "name": "metakernel_bash"
  },
  "language_info": {
   "file_extension": ".sh",
   "help_links": [
    {
     "text": "MetaKernel Magics",
     "url": "https://github.com/calysto/metakernel/blob/master/metakernel/magics/README.md"
    }
   ],
   "mimetype": "text/x-bash",
   "name": "bash"
  }
 },
 "nbformat": 4,
 "nbformat_minor": 2
}
