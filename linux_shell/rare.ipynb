{
 "cells": [
  {
   "cell_type": "code",
   "execution_count": 1,
   "metadata": {},
   "outputs": [
    {
     "name": "stdout",
     "output_type": "stream",
     "text": [
      "bash\n"
     ]
    }
   ],
   "source": [
    "IN=\"/bin/bash\"\n",
    "arrIN=${IN##*/}\n",
    "echo $arrIN"
   ]
  },
  {
   "cell_type": "code",
   "execution_count": 7,
   "metadata": {},
   "outputs": [
    {
     "name": "stdout",
     "output_type": "stream",
     "text": [
      "> [bla@some.com]\n",
      "> [john@home.com]\n",
      "> [Full Name <fulnam@other.org>]\n"
     ]
    }
   ],
   "source": [
    "var=\"bla@some.com;john@home.com;Full Name <fulnam@other.org>\"\n",
    "while [ \"$var\" ] ;do\n",
    "    iter=${var%%;*}\n",
    "    echo \"> [$iter]\"\n",
    "    [ \"$var\" = \"$iter\" ] && \\\n",
    "        var='' || \\\n",
    "        var=\"${var#*;}\"\n",
    "  done"
   ]
  },
  {
   "cell_type": "code",
   "execution_count": 8,
   "metadata": {},
   "outputs": [
    {
     "name": "stdout",
     "output_type": "stream",
     "text": [
      "bla@some.com john@home.com\n",
      "bla@some.com\n",
      "john@home.com\n"
     ]
    }
   ],
   "source": [
    "IN=\"bla@some.com;john@home.com\" \n",
    "set -- \"$IN\" \n",
    "IFS=\";\"; declare -a Array=($*) \n",
    "echo \"${Array[@]}\" \n",
    "echo \"${Array[0]}\" \n",
    "echo \"${Array[1]}\""
   ]
  },
  {
   "cell_type": "code",
   "execution_count": 1,
   "metadata": {},
   "outputs": [
    {
     "name": "stdout",
     "output_type": "stream",
     "text": [
      "one\n",
      "two\n",
      "three\n",
      "one two three\n",
      "one two three\n"
     ]
    }
   ],
   "source": [
    "# http://tldp.org/LDP/abs/html/quotingvar.html\n",
    "List=\"one two three\"\n",
    "\n",
    "for a in $List     # Splits the variable in parts at whitespace.\n",
    "do\n",
    "  echo \"$a\"\n",
    "done\n",
    "\n",
    "for a in \"$List\"   # Preserves whitespace in a single variable.\n",
    "do #     ^     ^\n",
    "  echo \"$a\"\n",
    "  echo \"${a}\"\n",
    "done"
   ]
  },
  {
   "cell_type": "code",
   "execution_count": 2,
   "metadata": {},
   "outputs": [
    {
     "name": "stdout",
     "output_type": "stream",
     "text": [
      "bash: [: too many arguments\n",
      "2\n"
     ]
    }
   ],
   "source": [
    "a=\"zero zoo\"\n",
    "\n",
    "if [ $a == z* ] \n",
    "then\n",
    "    echo '1'\n",
    "fi\n",
    "\n",
    "if [[ $a == z* ]]\n",
    "then\n",
    "    echo '2'\n",
    "fi"
   ]
  },
  {
   "cell_type": "code",
   "execution_count": 3,
   "metadata": {},
   "outputs": [
    {
     "name": "stdout",
     "output_type": "stream",
     "text": [
      "0=>1\n",
      "1=>2\n",
      "2=>3\n"
     ]
    }
   ],
   "source": [
    "string=\"1:2:3\"\n",
    "set -f                      # avoid globbing (expansion of *).\n",
    "array=(${string//:/ })\n",
    "for i in \"${!array[@]}\"\n",
    "do\n",
    "    echo \"$i=>${array[i]}\"\n",
    "done"
   ]
  }
 ],
 "metadata": {
  "kernelspec": {
   "display_name": "Bash",
   "language": "bash",
   "name": "bash"
  },
  "language_info": {
   "codemirror_mode": "shell",
   "file_extension": ".sh",
   "mimetype": "text/x-sh",
   "name": "bash"
  }
 },
 "nbformat": 4,
 "nbformat_minor": 2
}
