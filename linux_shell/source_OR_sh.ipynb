{
 "cells": [
  {
   "cell_type": "code",
   "execution_count": 11,
   "metadata": {},
   "outputs": [
    {
     "name": "stdout",
     "output_type": "stream",
     "text": [
      "$0: [source_OR_sh.sh]\n",
      "called by *sh*\n",
      "\n",
      "ps of $$:\n",
      "bash\n",
      "\n",
      "ps tree of $$:\n",
      "root       183   136  0 13:33 pts/2    00:00:00         bash source_OR_sh.sh\n",
      "root       185   183  0 13:33 pts/2    00:00:00           ps -efHww\n",
      "root       186   183  0 13:33 pts/2    00:00:00           grep 183 --color\n",
      "\n",
      "q is aliased to `exit'\n"
     ]
    },
    {
     "ename": "",
     "evalue": "11",
     "output_type": "error",
     "traceback": []
    }
   ],
   "source": [
    "bash source_OR_sh.sh"
   ]
  },
  {
   "cell_type": "code",
   "execution_count": 15,
   "metadata": {},
   "outputs": [
    {
     "name": "stdout",
     "output_type": "stream",
     "text": [
      "source_OR_sh.sh: 1: source_OR_sh.sh: shopt: not found\n",
      "$0: [source_OR_sh.sh]\n",
      "called by *sh*\n",
      "\n",
      "ps of $$:\n",
      "sh\n",
      "\n",
      "ps tree of $$:\n",
      "root       194   136  0 13:34 pts/2    00:00:00         sh source_OR_sh.sh\n",
      "root       196   194  0 13:34 pts/2    00:00:00           ps -efHww\n",
      "root       197   194  0 13:34 pts/2    00:00:00           grep 194 --color\n",
      "\n",
      "q is an alias for exit\n"
     ]
    },
    {
     "ename": "",
     "evalue": "11",
     "output_type": "error",
     "traceback": []
    }
   ],
   "source": [
    "sh source_OR_sh.sh"
   ]
  },
  {
   "cell_type": "code",
   "execution_count": 13,
   "metadata": {},
   "outputs": [
    {
     "name": "stdout",
     "output_type": "stream",
     "text": [
      "$0: [/bin/bash]\n",
      "called by source\n",
      "\n",
      "ps of $$:\n",
      "bash\n",
      "\n",
      "ps tree of $$:\n",
      "root       136   126  0 13:28 pts/2    00:00:00       /bin/bash --rcfile /opt/conda/lib/python3.7/site-packages/pexpect/bashrc.sh\n",
      "root       192   136  0 13:33 pts/2    00:00:00         ps -efHww\n",
      "root       193   136  0 13:33 pts/2    00:00:00         grep 136 --color\n",
      "\n",
      "q is aliased to `return'\n"
     ]
    },
    {
     "ename": "",
     "evalue": "11",
     "output_type": "error",
     "traceback": []
    }
   ],
   "source": [
    "source source_OR_sh.sh"
   ]
  }
 ],
 "metadata": {
  "kernelspec": {
   "display_name": "Bash",
   "language": "bash",
   "name": "bash"
  },
  "language_info": {
   "codemirror_mode": "shell",
   "file_extension": ".sh",
   "mimetype": "text/x-sh",
   "name": "bash"
  }
 },
 "nbformat": 4,
 "nbformat_minor": 2
}
