{
 "cells": [
  {
   "cell_type": "code",
   "execution_count": 296,
   "metadata": {},
   "outputs": [
    {
     "name": "stdout",
     "output_type": "stream",
     "text": [
      "[batch1]\n",
      "# comments here\n",
      "us # 1st\n",
      "notworking # test except\n",
      "hk # 3rd\n",
      "\n",
      "[batch2]\n",
      "# 2nd section\n",
      "\n",
      "[batch 3]\n",
      "\n",
      "{'batch1': ['us', 'notworking', 'hk'], 'batch2': [], 'batch 3': []}\n"
     ]
    },
    {
     "data": {
      "text/plain": [
       "['us', 'notworking', 'hk']"
      ]
     },
     "execution_count": 296,
     "metadata": {},
     "output_type": "execute_result"
    }
   ],
   "source": [
    "def get_server_list(conf_file):\n",
    "    with open(conf_file,'r') as f:\n",
    "        s = f.read()\n",
    "    print(s)\n",
    "\n",
    "    import re\n",
    "    rs = {}\n",
    "    for m in [m for m in re.finditer('\\[([^]]+)\\]([^\\[]+)', re.sub('\\s*#.*','', s) )]:\n",
    "        rs[m.group(1)] = [re.sub('\\s*#.*','', l).strip() for l in m.group(2).strip().splitlines()]\n",
    "    return rs\n",
    "\n",
    "conf_file = \"/data/batch_ssh_servers.conf\"\n",
    "conf = get_server_list(conf_file)\n",
    "print(conf)\n",
    "g = conf['batch1']\n",
    "g"
   ]
  },
  {
   "cell_type": "code",
   "execution_count": 303,
   "metadata": {},
   "outputs": [
    {
     "data": {
      "text/plain": [
       "[<Connection host=us port=10220>,\n",
       " <Connection host=notworking port=10220>,\n",
       " <Connection host=hk port=10220>]"
      ]
     },
     "execution_count": 303,
     "metadata": {},
     "output_type": "execute_result"
    }
   ],
   "source": [
    "connect_kwargs={\n",
    "    \"key_filename\": \"/data/id_rsa\",\n",
    "}\n",
    "    \n",
    "from fabric import Connection\n",
    "\n",
    "import fabric\n",
    "fabric.ThreadingGroup\n",
    "\n",
    "conn_list = [ Connection(h, port=10220,  connect_kwargs=connect_kwargs) for h in g ]\n",
    "\n",
    "from fabric import ThreadingGroup as Group\n",
    "pool= Group.from_connections(conn_list)\n",
    "pool"
   ]
  },
  {
   "cell_type": "code",
   "execution_count": 362,
   "metadata": {},
   "outputs": [
    {
     "name": "stdout",
     "output_type": "stream",
     "text": [
      "HK1C1GTX\n",
      "bwg2c2g\n"
     ]
    },
    {
     "data": {
      "text/plain": [
       "[{<Connection host=hk port=10220>: <Result cmd='hostname' exited=0>,\n",
       "  <Connection host=us port=10220>: <Result cmd='hostname' exited=0>,\n",
       "  <Connection host=notworking port=10220>: socket.gaierror(-2,\n",
       "                  'Name or service not known')},\n",
       " {<Connection host=hk port=10220>: <Result cmd='date' exited=0>,\n",
       "  <Connection host=us port=10220>: <Result cmd='date' exited=0>},\n",
       " {<Connection host=hk port=10220>: <Result cmd='whoami' exited=0>,\n",
       "  <Connection host=us port=10220>: <Result cmd='whoami' exited=0>},\n",
       " {<Connection host=hk port=10220>: <Result cmd='ls /etc/hosts*' exited=0>,\n",
       "  <Connection host=us port=10220>: <Result cmd='ls /etc/hosts*' exited=0>}]"
      ]
     },
     "execution_count": 362,
     "metadata": {},
     "output_type": "execute_result"
    }
   ],
   "source": [
    "from fabric.exceptions import GroupException\n",
    "\n",
    "def append_GroupResult(GroupResult_list, pool, cmd_list, **kwargs):\n",
    "    if len(pool) == 0: return GroupResult_list\n",
    "    \n",
    "    if type(cmd_list) == str:\n",
    "        cmd_list = cmd_list.strip().splitlines()\n",
    "        \n",
    "    for cmd in cmd_list:\n",
    "        try:\n",
    "            GroupResult_list.append(pool.run(cmd, **kwargs))\n",
    "        except GroupException as e:\n",
    "            GroupResult_list.append(e.result)\n",
    "            \n",
    "    return GroupResult_list\n",
    "\n",
    "\n",
    "def group_run(pool, cmd_list, **kwargs):    \n",
    "    GroupResult_list = append_GroupResult([], pool, 'hostname')\n",
    "    #pool_work = Group.from_connections([c for c in pool if type(GroupResult_list[0].get(c)) == fabric.runners.Result])\n",
    "    pool_work = Group.from_connections([c for c in pool if c.is_connected])    \n",
    "    return append_GroupResult(GroupResult_list, pool_work, cmd_list, **kwargs)\n",
    "\n",
    "cmds=\"\"\"\n",
    "date\n",
    "whoami\n",
    "ls /etc/hosts*\n",
    "\"\"\"\n",
    "run_rs = group_run(pool,cmds,hide='out')\n",
    "run_rs"
   ]
  },
  {
   "cell_type": "code",
   "execution_count": 368,
   "metadata": {},
   "outputs": [
    {
     "data": {
      "text/plain": [
       "{<Connection host=hk port=10220>: <Result cmd='ls /etc/hosts*' exited=0>,\n",
       " <Connection host=us port=10220>: <Result cmd='ls /etc/hosts*' exited=0>}"
      ]
     },
     "execution_count": 368,
     "metadata": {},
     "output_type": "execute_result"
    }
   ],
   "source": [
    "rs"
   ]
  },
  {
   "cell_type": "code",
   "execution_count": 378,
   "metadata": {},
   "outputs": [],
   "source": [
    "def run_rs_to_dict_list(run_rs, splitlines=True):\n",
    "    run_rs_list = []\n",
    "    for rs in run_rs:\n",
    "        for k,v in rs.items():\n",
    "            item = {'Host': k.host}\n",
    "            if type(v) == fabric.runners.Result:\n",
    "                d = vars(v)\n",
    "                for k in ['command','exited']: \n",
    "                    item[k] = d[k]\n",
    "                for k in ['stdout','stderr']: \n",
    "                    if splitlines: item[k] = d[k].strip().splitlines()\n",
    "                    else:          item[k] = d[k].strip()\n",
    "            else:\n",
    "                item['ConnError'] = str(v)\n",
    "\n",
    "            run_rs_list.append(item)\n",
    "\n",
    "    return run_rs_list\n",
    "        \n",
    "import json\n",
    "\n",
    "with open(\"fabric2_result.json\", \"w\") as f:\n",
    "    json.dump(run_rs_to_dict_list(run_rs), f, indent=4)        "
   ]
  },
  {
   "cell_type": "code",
   "execution_count": 379,
   "metadata": {
    "scrolled": false
   },
   "outputs": [
    {
     "name": "stdout",
     "output_type": "stream",
     "text": [
      "[\r\n",
      "    {\r\n",
      "        \"Host\": \"hk\",\r\n",
      "        \"command\": \"hostname\",\r\n",
      "        \"exited\": 0,\r\n",
      "        \"stdout\": [\r\n",
      "            \"HK1C1GTX\"\r\n",
      "        ],\r\n",
      "        \"stderr\": []\r\n",
      "    },\r\n",
      "    {\r\n",
      "        \"Host\": \"us\",\r\n",
      "        \"command\": \"hostname\",\r\n",
      "        \"exited\": 0,\r\n",
      "        \"stdout\": [\r\n",
      "            \"bwg2c2g\"\r\n",
      "        ],\r\n",
      "        \"stderr\": []\r\n",
      "    },\r\n",
      "    {\r\n",
      "        \"Host\": \"notworking\",\r\n",
      "        \"ConnError\": \"[Errno -2] Name or service not known\"\r\n",
      "    },\r\n",
      "    {\r\n",
      "        \"Host\": \"hk\",\r\n",
      "        \"command\": \"date\",\r\n",
      "        \"exited\": 0,\r\n",
      "        \"stdout\": [\r\n",
      "            \"Wed May  1 18:08:54 CST 2019\"\r\n",
      "        ],\r\n",
      "        \"stderr\": []\r\n",
      "    },\r\n",
      "    {\r\n",
      "        \"Host\": \"us\",\r\n",
      "        \"command\": \"date\",\r\n",
      "        \"exited\": 0,\r\n",
      "        \"stdout\": [\r\n",
      "            \"Wed May  1 06:08:54 EDT 2019\"\r\n",
      "        ],\r\n",
      "        \"stderr\": []\r\n",
      "    },\r\n",
      "    {\r\n",
      "        \"Host\": \"hk\",\r\n",
      "        \"command\": \"whoami\",\r\n",
      "        \"exited\": 0,\r\n",
      "        \"stdout\": [\r\n",
      "            \"root\"\r\n",
      "        ],\r\n",
      "        \"stderr\": []\r\n",
      "    },\r\n",
      "    {\r\n",
      "        \"Host\": \"us\",\r\n",
      "        \"command\": \"whoami\",\r\n",
      "        \"exited\": 0,\r\n",
      "        \"stdout\": [\r\n",
      "            \"root\"\r\n",
      "        ],\r\n",
      "        \"stderr\": []\r\n",
      "    },\r\n",
      "    {\r\n",
      "        \"Host\": \"hk\",\r\n",
      "        \"command\": \"ls /etc/hosts*\",\r\n",
      "        \"exited\": 0,\r\n",
      "        \"stdout\": [\r\n",
      "            \"/etc/hosts\",\r\n",
      "            \"/etc/hosts.allow\",\r\n",
      "            \"/etc/hosts.deny\"\r\n",
      "        ],\r\n",
      "        \"stderr\": []\r\n",
      "    },\r\n",
      "    {\r\n",
      "        \"Host\": \"us\",\r\n",
      "        \"command\": \"ls /etc/hosts*\",\r\n",
      "        \"exited\": 0,\r\n",
      "        \"stdout\": [\r\n",
      "            \"/etc/hosts\",\r\n",
      "            \"/etc/hosts.allow\",\r\n",
      "            \"/etc/hosts.deny\"\r\n",
      "        ],\r\n",
      "        \"stderr\": []\r\n",
      "    }\r\n",
      "]"
     ]
    }
   ],
   "source": [
    "!cat fabric2_result.json"
   ]
  },
  {
   "cell_type": "code",
   "execution_count": 429,
   "metadata": {},
   "outputs": [
    {
     "data": {
      "text/html": [
       "<div>\n",
       "<style scoped>\n",
       "    .dataframe tbody tr th:only-of-type {\n",
       "        vertical-align: middle;\n",
       "    }\n",
       "\n",
       "    .dataframe tbody tr th {\n",
       "        vertical-align: top;\n",
       "    }\n",
       "\n",
       "    .dataframe thead th {\n",
       "        text-align: right;\n",
       "    }\n",
       "</style>\n",
       "<table border=\"1\" class=\"dataframe\">\n",
       "  <thead>\n",
       "    <tr style=\"text-align: right;\">\n",
       "      <th></th>\n",
       "      <th>Host</th>\n",
       "      <th>ConnError</th>\n",
       "      <th>command</th>\n",
       "      <th>exited</th>\n",
       "      <th>stderr</th>\n",
       "      <th>stdout</th>\n",
       "    </tr>\n",
       "  </thead>\n",
       "  <tbody>\n",
       "    <tr>\n",
       "      <th>0</th>\n",
       "      <td>hk</td>\n",
       "      <td></td>\n",
       "      <td>hostname</td>\n",
       "      <td>0</td>\n",
       "      <td></td>\n",
       "      <td>HK1C1GTX</td>\n",
       "    </tr>\n",
       "    <tr>\n",
       "      <th>3</th>\n",
       "      <td>hk</td>\n",
       "      <td></td>\n",
       "      <td>date</td>\n",
       "      <td>0</td>\n",
       "      <td></td>\n",
       "      <td>Wed May  1 18:08:54 CST 2019</td>\n",
       "    </tr>\n",
       "    <tr>\n",
       "      <th>5</th>\n",
       "      <td>hk</td>\n",
       "      <td></td>\n",
       "      <td>whoami</td>\n",
       "      <td>0</td>\n",
       "      <td></td>\n",
       "      <td>root</td>\n",
       "    </tr>\n",
       "    <tr>\n",
       "      <th>7</th>\n",
       "      <td>hk</td>\n",
       "      <td></td>\n",
       "      <td>ls /etc/hosts*</td>\n",
       "      <td>0</td>\n",
       "      <td></td>\n",
       "      <td>/etc/hosts\\n/etc/hosts.allow\\n/etc/hosts.deny</td>\n",
       "    </tr>\n",
       "    <tr>\n",
       "      <th>2</th>\n",
       "      <td>notworking</td>\n",
       "      <td>[Errno -2] Name or service not known</td>\n",
       "      <td></td>\n",
       "      <td></td>\n",
       "      <td></td>\n",
       "      <td></td>\n",
       "    </tr>\n",
       "    <tr>\n",
       "      <th>1</th>\n",
       "      <td>us</td>\n",
       "      <td></td>\n",
       "      <td>hostname</td>\n",
       "      <td>0</td>\n",
       "      <td></td>\n",
       "      <td>bwg2c2g</td>\n",
       "    </tr>\n",
       "    <tr>\n",
       "      <th>4</th>\n",
       "      <td>us</td>\n",
       "      <td></td>\n",
       "      <td>date</td>\n",
       "      <td>0</td>\n",
       "      <td></td>\n",
       "      <td>Wed May  1 06:08:54 EDT 2019</td>\n",
       "    </tr>\n",
       "    <tr>\n",
       "      <th>6</th>\n",
       "      <td>us</td>\n",
       "      <td></td>\n",
       "      <td>whoami</td>\n",
       "      <td>0</td>\n",
       "      <td></td>\n",
       "      <td>root</td>\n",
       "    </tr>\n",
       "    <tr>\n",
       "      <th>8</th>\n",
       "      <td>us</td>\n",
       "      <td></td>\n",
       "      <td>ls /etc/hosts*</td>\n",
       "      <td>0</td>\n",
       "      <td></td>\n",
       "      <td>/etc/hosts\\n/etc/hosts.allow\\n/etc/hosts.deny</td>\n",
       "    </tr>\n",
       "  </tbody>\n",
       "</table>\n",
       "</div>"
      ],
      "text/plain": [
       "         Host                             ConnError         command exited  \\\n",
       "0          hk                                              hostname      0   \n",
       "3          hk                                                  date      0   \n",
       "5          hk                                                whoami      0   \n",
       "7          hk                                        ls /etc/hosts*      0   \n",
       "2  notworking  [Errno -2] Name or service not known                          \n",
       "1          us                                              hostname      0   \n",
       "4          us                                                  date      0   \n",
       "6          us                                                whoami      0   \n",
       "8          us                                        ls /etc/hosts*      0   \n",
       "\n",
       "  stderr                                         stdout  \n",
       "0                                              HK1C1GTX  \n",
       "3                          Wed May  1 18:08:54 CST 2019  \n",
       "5                                                  root  \n",
       "7         /etc/hosts\\n/etc/hosts.allow\\n/etc/hosts.deny  \n",
       "2                                                        \n",
       "1                                               bwg2c2g  \n",
       "4                          Wed May  1 06:08:54 EDT 2019  \n",
       "6                                                  root  \n",
       "8         /etc/hosts\\n/etc/hosts.allow\\n/etc/hosts.deny  "
      ]
     },
     "execution_count": 429,
     "metadata": {},
     "output_type": "execute_result"
    }
   ],
   "source": [
    "import pandas as pd\n",
    "df = pd.DataFrame(run_rs_to_dict_list(run_rs, splitlines=False)).fillna('')\n",
    "df = df.set_index('Host', append=True).sort_index(level=1).reset_index(level=1)\n",
    "df"
   ]
  },
  {
   "cell_type": "code",
   "execution_count": 430,
   "metadata": {},
   "outputs": [
    {
     "data": {
      "text/html": [
       "<div>\n",
       "<style scoped>\n",
       "    .dataframe tbody tr th:only-of-type {\n",
       "        vertical-align: middle;\n",
       "    }\n",
       "\n",
       "    .dataframe tbody tr th {\n",
       "        vertical-align: top;\n",
       "    }\n",
       "\n",
       "    .dataframe thead th {\n",
       "        text-align: right;\n",
       "    }\n",
       "</style>\n",
       "<table border=\"1\" class=\"dataframe\">\n",
       "  <thead>\n",
       "    <tr style=\"text-align: right;\">\n",
       "      <th></th>\n",
       "      <th>Host</th>\n",
       "      <th>ConnError</th>\n",
       "      <th>command</th>\n",
       "      <th>exited</th>\n",
       "      <th>stderr</th>\n",
       "      <th>stdout</th>\n",
       "    </tr>\n",
       "  </thead>\n",
       "  <tbody>\n",
       "    <tr>\n",
       "      <th>5</th>\n",
       "      <td>hk</td>\n",
       "      <td></td>\n",
       "      <td>whoami</td>\n",
       "      <td>0</td>\n",
       "      <td></td>\n",
       "      <td>root</td>\n",
       "    </tr>\n",
       "    <tr>\n",
       "      <th>6</th>\n",
       "      <td>us</td>\n",
       "      <td></td>\n",
       "      <td>whoami</td>\n",
       "      <td>0</td>\n",
       "      <td></td>\n",
       "      <td>root</td>\n",
       "    </tr>\n",
       "  </tbody>\n",
       "</table>\n",
       "</div>"
      ],
      "text/plain": [
       "  Host ConnError command exited stderr stdout\n",
       "5   hk            whoami      0          root\n",
       "6   us            whoami      0          root"
      ]
     },
     "execution_count": 430,
     "metadata": {},
     "output_type": "execute_result"
    }
   ],
   "source": [
    "df[df['command'] == 'whoami']"
   ]
  },
  {
   "cell_type": "code",
   "execution_count": 431,
   "metadata": {},
   "outputs": [
    {
     "data": {
      "text/html": [
       "<div>\n",
       "<style scoped>\n",
       "    .dataframe tbody tr th:only-of-type {\n",
       "        vertical-align: middle;\n",
       "    }\n",
       "\n",
       "    .dataframe tbody tr th {\n",
       "        vertical-align: top;\n",
       "    }\n",
       "\n",
       "    .dataframe thead th {\n",
       "        text-align: right;\n",
       "    }\n",
       "</style>\n",
       "<table border=\"1\" class=\"dataframe\">\n",
       "  <thead>\n",
       "    <tr style=\"text-align: right;\">\n",
       "      <th></th>\n",
       "      <th>Host</th>\n",
       "      <th>ConnError</th>\n",
       "      <th>command</th>\n",
       "      <th>exited</th>\n",
       "      <th>stderr</th>\n",
       "      <th>stdout</th>\n",
       "    </tr>\n",
       "  </thead>\n",
       "  <tbody>\n",
       "    <tr>\n",
       "      <th>7</th>\n",
       "      <td>hk</td>\n",
       "      <td></td>\n",
       "      <td>ls /etc/hosts*</td>\n",
       "      <td>0</td>\n",
       "      <td></td>\n",
       "      <td>/etc/hosts\\n/etc/hosts.allow\\n/etc/hosts.deny</td>\n",
       "    </tr>\n",
       "    <tr>\n",
       "      <th>8</th>\n",
       "      <td>us</td>\n",
       "      <td></td>\n",
       "      <td>ls /etc/hosts*</td>\n",
       "      <td>0</td>\n",
       "      <td></td>\n",
       "      <td>/etc/hosts\\n/etc/hosts.allow\\n/etc/hosts.deny</td>\n",
       "    </tr>\n",
       "  </tbody>\n",
       "</table>\n",
       "</div>"
      ],
      "text/plain": [
       "  Host ConnError         command exited stderr  \\\n",
       "7   hk            ls /etc/hosts*      0          \n",
       "8   us            ls /etc/hosts*      0          \n",
       "\n",
       "                                          stdout  \n",
       "7  /etc/hosts\\n/etc/hosts.allow\\n/etc/hosts.deny  \n",
       "8  /etc/hosts\\n/etc/hosts.allow\\n/etc/hosts.deny  "
      ]
     },
     "execution_count": 431,
     "metadata": {},
     "output_type": "execute_result"
    }
   ],
   "source": [
    "df[df['command'].str.contains('ls', regex=False)]"
   ]
  },
  {
   "cell_type": "code",
   "execution_count": 334,
   "metadata": {},
   "outputs": [],
   "source": [
    "pool.close()"
   ]
  },
  {
   "cell_type": "code",
   "execution_count": 335,
   "metadata": {},
   "outputs": [
    {
     "name": "stdout",
     "output_type": "stream",
     "text": [
      "False\n",
      "False\n",
      "False\n"
     ]
    }
   ],
   "source": [
    "for c in pool:\n",
    "    print(c.is_connected)"
   ]
  }
 ],
 "metadata": {
  "kernelspec": {
   "display_name": "Python 3",
   "language": "python",
   "name": "python3"
  },
  "language_info": {
   "codemirror_mode": {
    "name": "ipython",
    "version": 3
   },
   "file_extension": ".py",
   "mimetype": "text/x-python",
   "name": "python",
   "nbconvert_exporter": "python",
   "pygments_lexer": "ipython3",
   "version": "3.7.0"
  }
 },
 "nbformat": 4,
 "nbformat_minor": 2
}
