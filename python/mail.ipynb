{
 "cells": [
  {
   "cell_type": "code",
   "execution_count": null,
   "metadata": {},
   "outputs": [],
   "source": [
    "from email.mime.text import MIMEText\n",
    "from email.mime.multipart import MIMEMultipart\n",
    "\n",
    "message = MIMEMultipart(\"alternative\")\n",
    "\n",
    "sender = \"hi@f.pro\"\n",
    "message[\"From\"] = f\"Ferro<{ sender }>\"\n",
    "\n",
    "receiver = [\"home@f.pro\"]\n",
    "message[\"To\"] = \",\".join(receiver)\n",
    "\n",
    "message[\"Subject\"] = \"test smtp\"\n",
    "\n",
    "# Create the plain-text and HTML version of your message\n",
    "message_text = \"\"\"\\\n",
    "from python smtp client\n",
    "\"\"\"\n",
    "\n",
    "message.attach(MIMEText(message_text, \"plain\"))\n",
    "\n",
    "port = 465  # For SSL\n",
    "smtp_server = \"smtp.exmail.qq.com\"\n",
    "\n",
    "m = message.as_string()\n",
    "print(m)"
   ]
  },
  {
   "cell_type": "code",
   "execution_count": 31,
   "metadata": {},
   "outputs": [],
   "source": [
    "import smtplib, ssl\n",
    "\n",
    "try: password\n",
    "except NameError: password = input(\"Type your password and press enter: \")\n",
    "\n",
    "# Create a secure SSL context\n",
    "context = ssl.create_default_context()\n",
    "\n",
    "with smtplib.SMTP_SSL(smtp_server, port, context=context) as server:\n",
    "    server.login(sender, password)\n",
    "    server.sendmail(sender, receiver, m)"
   ]
  },
  {
   "cell_type": "code",
   "execution_count": null,
   "metadata": {},
   "outputs": [],
   "source": []
  }
 ],
 "metadata": {
  "kernelspec": {
   "display_name": "Python 3",
   "language": "python",
   "name": "python3"
  },
  "language_info": {
   "codemirror_mode": {
    "name": "ipython",
    "version": 3
   },
   "file_extension": ".py",
   "mimetype": "text/x-python",
   "name": "python",
   "nbconvert_exporter": "python",
   "pygments_lexer": "ipython3",
   "version": "3.8.3"
  }
 },
 "nbformat": 4,
 "nbformat_minor": 4
}
