{
 "cells": [
  {
   "cell_type": "markdown",
   "metadata": {},
   "source": [
    "# DB\n",
    "## MySQL\n",
    "pip2 install mysql  \n",
    "http://dev.mysql.com/doc/connector-python/en/connector-python-example-cursor-transaction.html  \n",
    "pip3 install PyMySQL  \n",
    "https://github.com/PyMySQL/PyMySQL/"
   ]
  },
  {
   "cell_type": "code",
   "execution_count": null,
   "metadata": {
    "collapsed": true
   },
   "outputs": [],
   "source": [
    "import pymysql.cursors\n",
    "\n",
    "# Connect to the database \n",
    "connection = pymysql.connect(host='mysqlserver',\n",
    "                             user='root',\n",
    "                             passwd='...',\n",
    "                             db='innodb',\n",
    "                             charset='utf8mb4',\n",
    "                             cursorclass=pymysql.cursors.DictCursor)\n",
    "try:    \n",
    "    with connection.cursor() as cursor:\n",
    "        # Create a new record\n",
    "        sql = \"INSERT INTO `page` (`job_start`, `site` ,`url`) VALUES (%s,%s,'http://')\"\n",
    "        cursor.execute(sql, (now, 'test',))\n",
    "        print(cursor.lastrowid)  #get AUTO_INCREMENT id\n",
    "    connection.commit()\n",
    "    \n",
    "    with connection.cursor() as cursor:\n",
    "        #sql = \"SHOW FULL PROCESSLIST\" #\\G\"\n",
    "        # Read a single record\n",
    "        sql = \"SELECT `url`, `id` FROM `page` WHERE `site`=%s\"        \n",
    "        cursor.execute(sql, ('test',))\n",
    "        result = cursor.fetchone()\n",
    "        print(result)\n",
    "finally:\n",
    "    connection.close()   \n",
    "    \n",
    "cursor = connection.cursor()               \n",
    "cursor.callproc('shop_diff', ('111','222',))\n",
    "r = cursor.fetchall()\n",
    "cursor.close\n",
    "connection.close\n",
    "r    "
   ]
  },
  {
   "cell_type": "markdown",
   "metadata": {},
   "source": [
    "## MangoDB"
   ]
  },
  {
   "cell_type": "code",
   "execution_count": 230,
   "metadata": {
    "collapsed": false
   },
   "outputs": [
    {
     "data": {
      "text/plain": [
       "Database(MongoClient('localhost', 270188), 'test_database')"
      ]
     },
     "execution_count": 230,
     "metadata": {},
     "output_type": "execute_result"
    }
   ],
   "source": [
    "from pymongo import MongoClient\n",
    "client = MongoClient()\n",
    "client = MongoClient('localhost', 270188)  #random port, no error???\n",
    "client.test_database"
   ]
  },
  {
   "cell_type": "markdown",
   "metadata": {},
   "source": [
    "## Redis  \n",
    "https://github.com/andymccurdy/redis-py  \n",
    "https://kushal.fedorapeople.org/redis-py/html/api.html  \n",
    "http://www.the5fire.com/python-simple-redis.html"
   ]
  },
  {
   "cell_type": "code",
   "execution_count": null,
   "metadata": {
    "collapsed": true
   },
   "outputs": [],
   "source": [
    "import redis\n",
    "rr = redis.StrictRedis(host='localhost', port=6379, db=0)\n",
    "\n",
    "pool = redis.ConnectionPool(host='rediscache', port=6379, db=0)\n",
    "rrr = redis.Redis(connection_pool=pool)\n",
    "\n",
    "rr.set('name', {'shopid':111})  # set(name, value)\n",
    "eval(rr.get('name'))['shopid']  # 111\n",
    "\n",
    "rr.hmset('test',{'shopid':1111})  # hset(name, key, value), hmset(name, mapping)   \n",
    "rr.hget('test','shopid')          # b'1111'"
   ]
  },
  {
   "cell_type": "markdown",
   "metadata": {},
   "source": [
    "## AWS dynamodb  \n",
    "http://boto.readthedocs.org/en/latest/dynamodb2_tut.html   \n",
    "http://boto.readthedocs.org/en/latest/ref/dynamodb2.html   \n",
    "http://boto.readthedocs.org/en/latest/migrations/dynamodb_v1_to_v2.html  "
   ]
  },
  {
   "cell_type": "code",
   "execution_count": null,
   "metadata": {
    "collapsed": false
   },
   "outputs": [],
   "source": [
    "from boto.dynamodb2.table import Table\n",
    "from boto.dynamodb2.items import Item\n",
    "import boto.dynamodb2\n",
    "\n",
    "def conn_dynamodb():  \n",
    "    return boto.dynamodb2.connect_to_region(\n",
    "                       'ap-southeast-1',\n",
    "                       aws_access_key_id='...',\n",
    "                       aws_secret_access_key='...')     \n",
    "\n",
    "t = Table('shop',connection=conn_dynamodb())\n",
    "Item(t,data={'id':5555, 'Col2': 1}).save()\n",
    "\n",
    "try:  \n",
    "    item = t.get_item(id=5555)\n",
    "except boto.dynamodb2.exceptions.ItemNotFound:\n",
    "    pass\n",
    "d=dict(item)\n",
    "d.pop(\"html\") #remove unused key and its value\n",
    "\n",
    "i['Col2'] = [2,'hello',None]  #str('None') for None\n",
    "i.save()"
   ]
  }
 ],
 "metadata": {
  "anaconda-cloud": {},
  "kernelspec": {
   "display_name": "Python 3",
   "language": "python",
   "name": "python3"
  },
  "language_info": {
   "codemirror_mode": {
    "name": "ipython",
    "version": 3
   },
   "file_extension": ".py",
   "mimetype": "text/x-python",
   "name": "python",
   "nbconvert_exporter": "python",
   "pygments_lexer": "ipython3",
   "version": "3.5.2"
  }
 },
 "nbformat": 4,
 "nbformat_minor": 0
}
