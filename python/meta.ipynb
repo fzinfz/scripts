{
 "cells": [
  {
   "cell_type": "markdown",
   "metadata": {},
   "source": [
    "https://docs.python.org/3.3/library/inspect.html"
   ]
  },
  {
   "cell_type": "code",
   "execution_count": 139,
   "metadata": {},
   "outputs": [],
   "source": [
    "def print_func_co(func_name):\n",
    "    for attr in [ k for k in dir(func_name.__code__) if k.startswith(\"co\") ]:\n",
    "        print( attr, \"\\t\", getattr(func_name.__code__, attr) )"
   ]
  },
  {
   "cell_type": "code",
   "execution_count": 144,
   "metadata": {},
   "outputs": [
    {
     "name": "stdout",
     "output_type": "stream",
     "text": [
      "from addkey()\n",
      "set outsize class\n"
     ]
    }
   ],
   "source": [
    "class Test:\n",
    "    '''help'''\n",
    "    attr0 = 0\n",
    "    def addkey(): # need to be in class\n",
    "        setattr(Test, 'attr1', 'from addkey()')\n",
    "\n",
    "    def func1(func1_var0=1):\n",
    "        print(\"before_func1_var1\")      \n",
    "        func1_var1 = 1        \n",
    "        print(\"I am func1\")      \n",
    "        \n",
    "Test.addkey()\n",
    "print(Test.attr1)\n",
    "\n",
    "Test.attr2 = \"set outsize class\"\n",
    "print(Test.attr2)"
   ]
  },
  {
   "cell_type": "code",
   "execution_count": 145,
   "metadata": {},
   "outputs": [
    {
     "name": "stdout",
     "output_type": "stream",
     "text": [
      "co_argcount \t 1\n",
      "co_cellvars \t ()\n",
      "co_code \t b't\\x00d\\x01\\x83\\x01\\x01\\x00d\\x02}\\x01t\\x00d\\x03\\x83\\x01\\x01\\x00d\\x00S\\x00'\n",
      "co_consts \t (None, 'before_func1_var1', 1, 'I am func1')\n",
      "co_filename \t <ipython-input-144-942dd800a2cf>\n",
      "co_firstlineno \t 7\n",
      "co_flags \t 67\n",
      "co_freevars \t ()\n",
      "co_kwonlyargcount \t 0\n",
      "co_lnotab \t b'\\x00\\x01\\x08\\x01\\x04\\x01'\n",
      "co_name \t func1\n",
      "co_names \t ('print',)\n",
      "co_nlocals \t 2\n",
      "co_stacksize \t 2\n",
      "co_varnames \t ('func1_var0', 'func1_var1')\n"
     ]
    }
   ],
   "source": [
    "print_func_co(Test.func1)"
   ]
  },
  {
   "cell_type": "code",
   "execution_count": 146,
   "metadata": {},
   "outputs": [
    {
     "data": {
      "text/plain": [
       "mappingproxy({'__module__': '__main__',\n",
       "              '__doc__': 'help',\n",
       "              'attr0': 0,\n",
       "              'addkey': <function __main__.Test.addkey()>,\n",
       "              'func1': <function __main__.Test.func1(func1_var0=1)>,\n",
       "              '__dict__': <attribute '__dict__' of 'Test' objects>,\n",
       "              '__weakref__': <attribute '__weakref__' of 'Test' objects>,\n",
       "              'attr1': 'from addkey()',\n",
       "              'attr2': 'set outsize class'})"
      ]
     },
     "execution_count": 146,
     "metadata": {},
     "output_type": "execute_result"
    }
   ],
   "source": [
    "vars(Test) # Test.__dict__   # getattr(Test, '__dict__')"
   ]
  },
  {
   "cell_type": "code",
   "execution_count": 147,
   "metadata": {},
   "outputs": [
    {
     "name": "stdout",
     "output_type": "stream",
     "text": [
      "before_func1_var1\n",
      "I am func1\n"
     ]
    }
   ],
   "source": [
    "getattr(Test, 'func1')()"
   ]
  },
  {
   "cell_type": "code",
   "execution_count": 148,
   "metadata": {},
   "outputs": [],
   "source": [
    "Test.func1 = lambda: print(\"func1 modified\")"
   ]
  },
  {
   "cell_type": "code",
   "execution_count": 149,
   "metadata": {},
   "outputs": [
    {
     "name": "stdout",
     "output_type": "stream",
     "text": [
      "func1 modified\n"
     ]
    }
   ],
   "source": [
    "getattr(Test, 'func1')()"
   ]
  },
  {
   "cell_type": "code",
   "execution_count": 150,
   "metadata": {},
   "outputs": [
    {
     "name": "stdout",
     "output_type": "stream",
     "text": [
      "co_argcount \t 0\n",
      "co_cellvars \t ()\n",
      "co_code \t b't\\x00d\\x01\\x83\\x01S\\x00'\n",
      "co_consts \t (None, 'func1 modified')\n",
      "co_filename \t <ipython-input-148-85bf6b29b3fc>\n",
      "co_firstlineno \t 1\n",
      "co_flags \t 67\n",
      "co_freevars \t ()\n",
      "co_kwonlyargcount \t 0\n",
      "co_lnotab \t b''\n",
      "co_name \t <lambda>\n",
      "co_names \t ('print',)\n",
      "co_nlocals \t 0\n",
      "co_stacksize \t 2\n",
      "co_varnames \t ()\n"
     ]
    }
   ],
   "source": [
    "print_func_co(Test.func1)"
   ]
  },
  {
   "cell_type": "code",
   "execution_count": 61,
   "metadata": {},
   "outputs": [
    {
     "data": {
      "text/plain": [
       "<function __main__.<lambda>(x, y)>"
      ]
     },
     "execution_count": 61,
     "metadata": {},
     "output_type": "execute_result"
    }
   ],
   "source": [
    "fun1 = lambda x,y: x + y\n",
    "fun1"
   ]
  },
  {
   "cell_type": "code",
   "execution_count": 166,
   "metadata": {},
   "outputs": [
    {
     "data": {
      "text/plain": [
       "<function __main__.fun2(s1='defaultstr')>"
      ]
     },
     "execution_count": 166,
     "metadata": {},
     "output_type": "execute_result"
    }
   ],
   "source": [
    "def fun2(s1 = \"defaultstr\"):\n",
    "    print(\"before_s2\")\n",
    "    s2 = \"_addme\"\n",
    "    \n",
    "    def fun2i():\n",
    "        s3 = 3\n",
    "        print(\"fun2 inner\")\n",
    "    fun2i()\n",
    "    \n",
    "    return s1 + s2\n",
    "fun2"
   ]
  },
  {
   "cell_type": "code",
   "execution_count": 152,
   "metadata": {},
   "outputs": [
    {
     "data": {
      "text/plain": [
       "['__annotations__', '__call__', '__class__', '__closure__', '__code__']"
      ]
     },
     "execution_count": 152,
     "metadata": {},
     "output_type": "execute_result"
    }
   ],
   "source": [
    "dir(fun2)[:5]"
   ]
  },
  {
   "cell_type": "markdown",
   "metadata": {},
   "source": [
    "https://docs.python.org/3.3/library/inspect.html"
   ]
  },
  {
   "cell_type": "code",
   "execution_count": 170,
   "metadata": {},
   "outputs": [
    {
     "name": "stdout",
     "output_type": "stream",
     "text": [
      "co_argcount \t 1\n",
      "co_cellvars \t ()\n",
      "co_code \t b't\\x00d\\x01\\x83\\x01\\x01\\x00d\\x02}\\x01d\\x03d\\x04\\x84\\x00}\\x02|\\x02\\x83\\x00\\x01\\x00|\\x00|\\x01\\x17\\x00S\\x00'\n",
      "co_consts \t (None, 'before_s2', '_addme', <code object fun2i at 0x7f629c78da50, file \"<ipython-input-166-831d2d7102a7>\", line 5>, 'fun2.<locals>.fun2i')\n",
      "co_filename \t <ipython-input-166-831d2d7102a7>\n",
      "co_firstlineno \t 1\n",
      "co_flags \t 67\n",
      "co_freevars \t ()\n",
      "co_kwonlyargcount \t 0\n",
      "co_lnotab \t b'\\x00\\x01\\x08\\x01\\x04\\x02\\x08\\x03\\x06\\x02'\n",
      "co_name \t fun2\n",
      "co_names \t ('print',)\n",
      "co_nlocals \t 3\n",
      "co_stacksize \t 2\n",
      "co_varnames \t ('s1', 's2', 'fun2i')\n"
     ]
    }
   ],
   "source": [
    "print_func_co(fun2)"
   ]
  },
  {
   "cell_type": "code",
   "execution_count": 163,
   "metadata": {},
   "outputs": [
    {
     "name": "stdout",
     "output_type": "stream",
     "text": [
      "  2           0 LOAD_GLOBAL              0 (print)\n",
      "              2 LOAD_CONST               1 ('before_s2')\n",
      "              4 CALL_FUNCTION            1\n",
      "              6 POP_TOP\n",
      "\n",
      "  3           8 LOAD_CONST               2 ('_addme')\n",
      "             10 STORE_FAST               1 (s2)\n",
      "\n",
      "  4          12 LOAD_FAST                0 (s1)\n",
      "             14 LOAD_FAST                1 (s2)\n",
      "             16 BINARY_ADD\n",
      "             18 RETURN_VALUE\n"
     ]
    }
   ],
   "source": [
    "import dis\n",
    "dis.dis( fun2.__code__ )"
   ]
  },
  {
   "cell_type": "code",
   "execution_count": 116,
   "metadata": {},
   "outputs": [
    {
     "data": {
      "text/plain": [
       "\"(s1='defaultstr')\""
      ]
     },
     "execution_count": 116,
     "metadata": {},
     "output_type": "execute_result"
    }
   ],
   "source": [
    "from inspect import signature\n",
    "sig = signature(fun2)\n",
    "str(sig)"
   ]
  },
  {
   "cell_type": "code",
   "execution_count": 1,
   "metadata": {},
   "outputs": [
    {
     "data": {
      "text/plain": [
       "<module 'datetime' from '/opt/conda/lib/python3.7/datetime.py'>"
      ]
     },
     "execution_count": 1,
     "metadata": {},
     "output_type": "execute_result"
    }
   ],
   "source": [
    "import sys\n",
    "sys.modules['datetime']"
   ]
  },
  {
   "cell_type": "code",
   "execution_count": 4,
   "metadata": {},
   "outputs": [
    {
     "data": {
      "text/plain": [
       "[('__loader__', _frozen_importlib.BuiltinImporter),\n",
       " ('struct_time', time.struct_time)]"
      ]
     },
     "execution_count": 4,
     "metadata": {},
     "output_type": "execute_result"
    }
   ],
   "source": [
    "import inspect\n",
    "inspect.getmembers(sys.modules['time'], inspect.isclass)"
   ]
  },
  {
   "cell_type": "code",
   "execution_count": 7,
   "metadata": {},
   "outputs": [
    {
     "data": {
      "text/plain": [
       "{}"
      ]
     },
     "execution_count": 7,
     "metadata": {},
     "output_type": "execute_result"
    }
   ],
   "source": [
    "import pyclbr\n",
    "pyclbr.readmodule_ex(\"time\")"
   ]
  },
  {
   "cell_type": "code",
   "execution_count": 8,
   "metadata": {},
   "outputs": [
    {
     "ename": "TypeError",
     "evalue": "can only concatenate str (not \"list\") to str",
     "output_type": "error",
     "traceback": [
      "\u001b[0;31m---------------------------------------------------------------------------\u001b[0m",
      "\u001b[0;31mTypeError\u001b[0m                                 Traceback (most recent call last)",
      "\u001b[0;32m<ipython-input-8-b5dc6e299178>\u001b[0m in \u001b[0;36m<module>\u001b[0;34m()\u001b[0m\n\u001b[0;32m----> 1\u001b[0;31m \u001b[0mpyclbr\u001b[0m\u001b[0;34m.\u001b[0m\u001b[0mreadmodule_ex\u001b[0m\u001b[0;34m(\u001b[0m\u001b[0;34m\"datatime\"\u001b[0m\u001b[0;34m,\u001b[0m\u001b[0;34m'/opt/conda/lib/python3.7/datetime.py'\u001b[0m\u001b[0;34m)\u001b[0m\u001b[0;34m.\u001b[0m\u001b[0mitems\u001b[0m\u001b[0;34m(\u001b[0m\u001b[0;34m)\u001b[0m\u001b[0;34m\u001b[0m\u001b[0m\n\u001b[0m",
      "\u001b[0;32m/opt/conda/lib/python3.7/pyclbr.py\u001b[0m in \u001b[0;36mreadmodule_ex\u001b[0;34m(module, path)\u001b[0m\n\u001b[1;32m    114\u001b[0m     \u001b[0mDo\u001b[0m \u001b[0mthis\u001b[0m \u001b[0mby\u001b[0m \u001b[0mreading\u001b[0m \u001b[0msource\u001b[0m\u001b[0;34m,\u001b[0m \u001b[0mwithout\u001b[0m \u001b[0mimporting\u001b[0m \u001b[0;34m(\u001b[0m\u001b[0;32mand\u001b[0m \u001b[0mexecuting\u001b[0m\u001b[0;34m)\u001b[0m \u001b[0mit\u001b[0m\u001b[0;34m.\u001b[0m\u001b[0;34m\u001b[0m\u001b[0m\n\u001b[1;32m    115\u001b[0m     \"\"\"\n\u001b[0;32m--> 116\u001b[0;31m     \u001b[0;32mreturn\u001b[0m \u001b[0m_readmodule\u001b[0m\u001b[0;34m(\u001b[0m\u001b[0mmodule\u001b[0m\u001b[0;34m,\u001b[0m \u001b[0mpath\u001b[0m \u001b[0;32mor\u001b[0m \u001b[0;34m[\u001b[0m\u001b[0;34m]\u001b[0m\u001b[0;34m)\u001b[0m\u001b[0;34m\u001b[0m\u001b[0m\n\u001b[0m\u001b[1;32m    117\u001b[0m \u001b[0;34m\u001b[0m\u001b[0m\n\u001b[1;32m    118\u001b[0m \u001b[0;32mdef\u001b[0m \u001b[0m_readmodule\u001b[0m\u001b[0;34m(\u001b[0m\u001b[0mmodule\u001b[0m\u001b[0;34m,\u001b[0m \u001b[0mpath\u001b[0m\u001b[0;34m,\u001b[0m \u001b[0minpackage\u001b[0m\u001b[0;34m=\u001b[0m\u001b[0;32mNone\u001b[0m\u001b[0;34m)\u001b[0m\u001b[0;34m:\u001b[0m\u001b[0;34m\u001b[0m\u001b[0m\n",
      "\u001b[0;32m/opt/conda/lib/python3.7/pyclbr.py\u001b[0m in \u001b[0;36m_readmodule\u001b[0;34m(module, path, inpackage)\u001b[0m\n\u001b[1;32m    159\u001b[0m         \u001b[0msearch_path\u001b[0m \u001b[0;34m=\u001b[0m \u001b[0mpath\u001b[0m\u001b[0;34m\u001b[0m\u001b[0m\n\u001b[1;32m    160\u001b[0m     \u001b[0;32melse\u001b[0m\u001b[0;34m:\u001b[0m\u001b[0;34m\u001b[0m\u001b[0m\n\u001b[0;32m--> 161\u001b[0;31m         \u001b[0msearch_path\u001b[0m \u001b[0;34m=\u001b[0m \u001b[0mpath\u001b[0m \u001b[0;34m+\u001b[0m \u001b[0msys\u001b[0m\u001b[0;34m.\u001b[0m\u001b[0mpath\u001b[0m\u001b[0;34m\u001b[0m\u001b[0m\n\u001b[0m\u001b[1;32m    162\u001b[0m     \u001b[0mspec\u001b[0m \u001b[0;34m=\u001b[0m \u001b[0mimportlib\u001b[0m\u001b[0;34m.\u001b[0m\u001b[0mutil\u001b[0m\u001b[0;34m.\u001b[0m\u001b[0m_find_spec_from_path\u001b[0m\u001b[0;34m(\u001b[0m\u001b[0mfullmodule\u001b[0m\u001b[0;34m,\u001b[0m \u001b[0msearch_path\u001b[0m\u001b[0;34m)\u001b[0m\u001b[0;34m\u001b[0m\u001b[0m\n\u001b[1;32m    163\u001b[0m     \u001b[0m_modules\u001b[0m\u001b[0;34m[\u001b[0m\u001b[0mfullmodule\u001b[0m\u001b[0;34m]\u001b[0m \u001b[0;34m=\u001b[0m \u001b[0mtree\u001b[0m\u001b[0;34m\u001b[0m\u001b[0m\n",
      "\u001b[0;31mTypeError\u001b[0m: can only concatenate str (not \"list\") to str"
     ]
    }
   ],
   "source": [
    "pyclbr.readmodule_ex(\"datatime\",'/opt/conda/lib/python3.7/datetime.py').items()"
   ]
  }
 ],
 "metadata": {
  "kernelspec": {
   "display_name": "Python 3",
   "language": "python",
   "name": "python3"
  },
  "language_info": {
   "codemirror_mode": {
    "name": "ipython",
    "version": 3
   },
   "file_extension": ".py",
   "mimetype": "text/x-python",
   "name": "python",
   "nbconvert_exporter": "python",
   "pygments_lexer": "ipython3",
   "version": "3.7.0"
  }
 },
 "nbformat": 4,
 "nbformat_minor": 2
}
