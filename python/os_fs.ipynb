{
 "cells": [
  {
   "cell_type": "code",
   "execution_count": 1,
   "metadata": {},
   "outputs": [
    {
     "data": {
      "text/plain": [
       "'2.7.15 | packaged by conda-forge | (default, Mar  5 2020, 14:56:06) \\n[GCC 7.3.0]'"
      ]
     },
     "execution_count": 1,
     "metadata": {},
     "output_type": "execute_result"
    }
   ],
   "source": [
    "import sys\n",
    "sys.version"
   ]
  },
  {
   "cell_type": "code",
   "execution_count": 2,
   "metadata": {},
   "outputs": [],
   "source": [
    "import os, time, pprint\n",
    "path = \"/tmp/t1\"\n",
    "result = {}"
   ]
  },
  {
   "cell_type": "code",
   "execution_count": 3,
   "metadata": {},
   "outputs": [
    {
     "data": {
      "text/plain": [
       "{'test_open_close': True}"
      ]
     },
     "execution_count": 3,
     "metadata": {},
     "output_type": "execute_result"
    }
   ],
   "source": [
    "def os_close(fd):\n",
    "    try:\n",
    "        os.close(fd)\n",
    "        return True\n",
    "    except OSError:\n",
    "        return False\n",
    "\n",
    "fd = os.open(path, os.O_RDWR)\n",
    "result['test_open_close'] = os_close(fd)\n",
    "result"
   ]
  },
  {
   "cell_type": "code",
   "execution_count": 4,
   "metadata": {},
   "outputs": [],
   "source": [
    "from contextlib import contextmanager\n",
    "\n",
    "@contextmanager\n",
    "def os_open(name, flags):\n",
    "    '''https://github.com/libfuse/sshfs/blob/master/test/test_sshfs.py'''\n",
    "    fd = os.open(name, flags)\n",
    "    try:\n",
    "        yield fd\n",
    "    finally:\n",
    "        os.close(fd)"
   ]
  },
  {
   "cell_type": "code",
   "execution_count": 5,
   "metadata": {},
   "outputs": [
    {
     "name": "stdout",
     "output_type": "stream",
     "text": [
      "1626018603\n",
      "{'test_open_close': True, 'test_write': 10}\n"
     ]
    }
   ],
   "source": [
    "open(path, 'w').close() # clear file\n",
    "\n",
    "with os_open(path, os.O_RDWR) as fd:\n",
    "\n",
    "    s = str(int(time.time()))\n",
    "    print(s)\n",
    "    numBytes = os.write(fd, s)\n",
    "    result['test_write'] = numBytes\n",
    "\n",
    "pprint.pprint(result)"
   ]
  },
  {
   "cell_type": "code",
   "execution_count": 6,
   "metadata": {},
   "outputs": [
    {
     "name": "stdout",
     "output_type": "stream",
     "text": [
      "1626018603\n"
     ]
    },
    {
     "data": {
      "text/plain": [
       "{'test_open_close': True, 'test_read': True, 'test_write': 10}"
      ]
     },
     "execution_count": 6,
     "metadata": {},
     "output_type": "execute_result"
    }
   ],
   "source": [
    "with os_open(path, os.O_RDWR) as fd:\n",
    "    s_read = os.read(fd, len(s))\n",
    "    print(s_read)\n",
    "    result['test_read'] = ( s_read == s)\n",
    "\n",
    "result"
   ]
  },
  {
   "cell_type": "code",
   "execution_count": 7,
   "metadata": {},
   "outputs": [
    {
     "data": {
      "text/plain": [
       "{'test_open_close': True,\n",
       " 'test_read': True,\n",
       " 'test_write': 10,\n",
       " 'test_write_WRONLY': False}"
      ]
     },
     "execution_count": 7,
     "metadata": {},
     "output_type": "execute_result"
    }
   ],
   "source": [
    "with os_open(path, os.O_RDWR) as fd:\n",
    "    try:\n",
    "        os.read(fd,len(s))\n",
    "        result['test_write_WRONLY'] = False\n",
    "    except OSError:\n",
    "        result['test_write_WRONLY'] = True\n",
    "    \n",
    "result"
   ]
  },
  {
   "cell_type": "code",
   "execution_count": 8,
   "metadata": {},
   "outputs": [
    {
     "data": {
      "text/plain": [
       "{'test_open_close': True,\n",
       " 'test_read': True,\n",
       " 'test_write': 10,\n",
       " 'test_write_WRONLY': False}"
      ]
     },
     "execution_count": 8,
     "metadata": {},
     "output_type": "execute_result"
    }
   ],
   "source": [
    "with os_open(path, os.O_RDWR) as fd:\n",
    "    try:\n",
    "        os.read(fd,len(s))\n",
    "        result['test_write_WRONLY'] = False\n",
    "    except OSError:\n",
    "        result['test_write_WRONLY'] = True\n",
    "    \n",
    "result"
   ]
  },
  {
   "cell_type": "code",
   "execution_count": 9,
   "metadata": {},
   "outputs": [
    {
     "data": {
      "text/plain": [
       "{'test_lseek': True,\n",
       " 'test_open_close': True,\n",
       " 'test_read': True,\n",
       " 'test_write': 10,\n",
       " 'test_write_WRONLY': False}"
      ]
     },
     "execution_count": 9,
     "metadata": {},
     "output_type": "execute_result"
    }
   ],
   "source": [
    "fd = os.open(path, os.O_RDWR)\n",
    "file_content = []\n",
    "for i in range(len(s)):\n",
    "    os.lseek(fd, i, os.SEEK_SET)\n",
    "    file_content.append(os.read(fd, 1))\n",
    "result['test_lseek'] = ''.join(file_content) == s\n",
    "result"
   ]
  },
  {
   "cell_type": "code",
   "execution_count": 10,
   "metadata": {},
   "outputs": [
    {
     "name": "stdout",
     "output_type": "stream",
     "text": [
      "1626018603"
     ]
    }
   ],
   "source": [
    "!cat /tmp/t1"
   ]
  }
 ],
 "metadata": {
  "kernelspec": {
   "display_name": "Python 2",
   "language": "python",
   "name": "python2"
  },
  "language_info": {
   "codemirror_mode": {
    "name": "ipython",
    "version": 2
   },
   "file_extension": ".py",
   "mimetype": "text/x-python",
   "name": "python",
   "nbconvert_exporter": "python",
   "pygments_lexer": "ipython2",
   "version": "2.7.15"
  }
 },
 "nbformat": 4,
 "nbformat_minor": 4
}
