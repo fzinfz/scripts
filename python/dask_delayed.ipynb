{
 "cells": [
  {
   "cell_type": "code",
   "execution_count": 23,
   "metadata": {},
   "outputs": [
    {
     "name": "stdout",
     "output_type": "stream",
     "text": [
      "ping 'cn' ... 6ms\n",
      "ping 'cn' ... 8ms\n",
      "ping 'cn' ... 6ms\n",
      "ping 'cn' ... 6ms\n",
      "ping 'us' ... 163ms\n",
      "ping 'us' ... 163ms\n",
      "ping 'us' ... 164ms\n",
      "ping 'us' ... 163ms\n",
      "ping 'dummy' ... Cannot resolve dummy: Unknown host\n",
      "Timeout\n",
      "ping 'dummy' ... Cannot resolve dummy: Unknown host\n",
      "Timeout\n",
      "ping 'dummy' ... Cannot resolve dummy: Unknown host\n",
      "Timeout\n",
      "ping 'dummy' ... Cannot resolve dummy: Unknown host\n",
      "Timeout\n",
      "ping 'hk' ... 13ms\n",
      "ping 'hk' ... 13ms\n",
      "ping 'hk' ... 13ms\n",
      "ping 'hk' ... 13ms\n",
      "CPU times: user 11.7 ms, sys: 2.85 ms, total: 14.5 ms\n",
      "Wall time: 850 ms\n"
     ]
    }
   ],
   "source": [
    "%%time\n",
    "\n",
    "from ping3 import ping, verbose_ping\n",
    "servers = ['cn','us','dummy','hk']\n",
    "for s in servers:\n",
    "    verbose_ping(s)"
   ]
  },
  {
   "cell_type": "code",
   "execution_count": 24,
   "metadata": {},
   "outputs": [
    {
     "name": "stdout",
     "output_type": "stream",
     "text": [
      "[Delayed('verbose_ping-2ecd29f0-ef83-407a-bd4c-df84c9ff34c5'), Delayed('verbose_ping-2eb3e41a-f2d6-4024-80bb-a1698408a54f'), Delayed('verbose_ping-191c8e2f-84ca-451c-a749-afc4852dba51'), Delayed('verbose_ping-dca7765d-4743-4102-8b94-b055dd513097')]\n",
      "CPU times: user 695 µs, sys: 100 µs, total: 795 µs\n",
      "Wall time: 507 µs\n"
     ]
    }
   ],
   "source": [
    "%%time\n",
    "\n",
    "from dask import delayed\n",
    "ping_list = [delayed(verbose_ping)(s) for s in servers]\n",
    "print(ping_list)"
   ]
  },
  {
   "cell_type": "code",
   "execution_count": 25,
   "metadata": {},
   "outputs": [
    {
     "name": "stdout",
     "output_type": "stream",
     "text": [
      "ping 'dummy' ... ping 'cn' ... ping 'hk' ... ping 'us' ... 7ms\n",
      "ping 'cn' ... 14ms\n",
      "ping 'hk' ... 6ms\n",
      "ping 'cn' ... 6ms\n",
      "ping 'cn' ... 13ms\n",
      "ping 'hk' ... 6ms\n",
      "12ms\n",
      "ping 'hk' ... 13ms\n",
      "Cannot resolve dummy: Unknown host\n",
      "Timeout\n",
      "ping 'dummy' ... Cannot resolve dummy: Unknown host\n",
      "Timeout\n",
      "ping 'dummy' ... Cannot resolve dummy: Unknown host\n",
      "Timeout\n",
      "ping 'dummy' ... 167ms\n",
      "ping 'us' ... Cannot resolve dummy: Unknown host\n",
      "Timeout\n",
      "164ms\n",
      "ping 'us' ... 165ms\n",
      "ping 'us' ... 163ms\n",
      "CPU times: user 10.8 ms, sys: 5.78 ms, total: 16.6 ms\n",
      "Wall time: 663 ms\n"
     ]
    }
   ],
   "source": [
    "%%time\n",
    "\n",
    "import dask\n",
    "dask.compute(*ping_list)"
   ]
  },
  {
   "cell_type": "code",
   "execution_count": 26,
   "metadata": {},
   "outputs": [
    {
     "name": "stdout",
     "output_type": "stream",
     "text": [
      "Cannot resolve dummy: Unknown host\n",
      "[7.03883171081543, 165.330171585083, None, 13.814687728881836]\n",
      "CPU times: user 2.75 ms, sys: 409 µs, total: 3.16 ms\n",
      "Wall time: 219 ms\n"
     ]
    }
   ],
   "source": [
    "%%time\n",
    "\n",
    "ping_result = [ping(s, unit='ms') for s in servers]\n",
    "print(ping_result)"
   ]
  },
  {
   "cell_type": "code",
   "execution_count": 29,
   "metadata": {},
   "outputs": [
    {
     "name": "stdout",
     "output_type": "stream",
     "text": [
      "Cannot resolve dummy: Unknown host\n",
      "(7.832765579223633, 166.42093658447266, None, 14.717340469360352)\n",
      "CPU times: user 4.55 ms, sys: 620 µs, total: 5.17 ms\n",
      "Wall time: 168 ms\n"
     ]
    }
   ],
   "source": [
    "%%time\n",
    "\n",
    "ping_result = [delayed(ping)(s, unit='ms') for s in servers]\n",
    "ping_result = dask.compute(*ping_result)\n",
    "print(ping_result)"
   ]
  },
  {
   "cell_type": "code",
   "execution_count": 30,
   "metadata": {},
   "outputs": [
    {
     "name": "stdout",
     "output_type": "stream",
     "text": [
      "Cannot resolve dummy: Unknown host\n",
      "(('cn', 7.805109024047852), ('us', 164.98160362243652), ('dummy', None), ('hk', 13.576745986938477))\n",
      "CPU times: user 5.32 ms, sys: 164 µs, total: 5.49 ms\n",
      "Wall time: 167 ms\n"
     ]
    }
   ],
   "source": [
    "%%time\n",
    "\n",
    "ping_result = [(s, delayed(ping)(s, unit='ms')) for s in servers]\n",
    "ping_result = dask.compute(*ping_result)\n",
    "print(ping_result)"
   ]
  },
  {
   "cell_type": "code",
   "execution_count": null,
   "metadata": {
    "collapsed": true
   },
   "outputs": [],
   "source": [
    "!conda install graphviz python-graphviz"
   ]
  }
 ],
 "metadata": {
  "kernelspec": {
   "display_name": "Python 3",
   "language": "python",
   "name": "python3"
  },
  "language_info": {
   "codemirror_mode": {
    "name": "ipython",
    "version": 3
   },
   "file_extension": ".py",
   "mimetype": "text/x-python",
   "name": "python",
   "nbconvert_exporter": "python",
   "pygments_lexer": "ipython3",
   "version": "3.6.3"
  }
 },
 "nbformat": 4,
 "nbformat_minor": 2
}
