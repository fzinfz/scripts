{
 "cells": [
  {
   "cell_type": "code",
   "execution_count": 36,
   "metadata": {},
   "outputs": [
    {
     "name": "stdout",
     "output_type": "stream",
     "text": [
      "The autoreload extension is already loaded. To reload it, use:\n",
      "  %reload_ext autoreload\n"
     ]
    }
   ],
   "source": [
    "import sys, re\n",
    "\n",
    "# https://github.com/fzinfz/meter-dlt645\n",
    "sys.path.append(\"/data/powermeter_dlt645/meter-dlt645\")\n",
    "\n",
    "from test_dlt645 import *\n",
    "import test_dlt645\n",
    "\n",
    "%load_ext autoreload\n",
    "%autoreload 2\n",
    "\n",
    "from power_meter import *\n",
    "from power_meter_write import *"
   ]
  },
  {
   "cell_type": "code",
   "execution_count": 2,
   "metadata": {},
   "outputs": [
    {
     "name": "stdout",
     "output_type": "stream",
     "text": [
      "/dev/ttyUSB0  /dev/ttyUSB1\r\n"
     ]
    }
   ],
   "source": [
    "!ls /dev/ttyUSB*"
   ]
  },
  {
   "cell_type": "code",
   "execution_count": 3,
   "metadata": {},
   "outputs": [
    {
     "data": {
      "text/plain": [
       "True"
      ]
     },
     "execution_count": 3,
     "metadata": {},
     "output_type": "execute_result"
    }
   ],
   "source": [
    "verbose=0\n",
    "\n",
    "serial_port = '/dev/ttyUSB0'\n",
    "timeout_count = 10\n",
    "wait_for_read = 0.5\n",
    "\n",
    "chn=dlt645.Channel(port_id = serial_port, tmo_cnt = timeout_count, wait_for_read = wait_for_read)\n",
    "chn.open()"
   ]
  },
  {
   "cell_type": "markdown",
   "metadata": {},
   "source": [
    "# auto detect address"
   ]
  },
  {
   "cell_type": "code",
   "execution_count": 4,
   "metadata": {},
   "outputs": [
    {
     "name": "stdout",
     "output_type": "stream",
     "text": [
      "\n",
      "--- Read meter address with broadcase mode ---\n",
      "Meter address: 001522454104\n",
      "[0, 21, 34, 69, 65, 4]\n"
     ]
    }
   ],
   "source": [
    "read_meter_address(chn, verbose)\n",
    "addr = chn.rx_addr\n",
    "print(addr)"
   ]
  },
  {
   "cell_type": "code",
   "execution_count": 7,
   "metadata": {},
   "outputs": [
    {
     "data": {
      "text/plain": [
       "'001522454104'"
      ]
     },
     "execution_count": 7,
     "metadata": {},
     "output_type": "execute_result"
    }
   ],
   "source": [
    "# algorithm for converting back to human readable\n",
    "''.join([ '{0:0>2x}'.format(s) for s in addr ])"
   ]
  },
  {
   "cell_type": "markdown",
   "metadata": {},
   "source": [
    "# manually set address"
   ]
  },
  {
   "cell_type": "code",
   "execution_count": 48,
   "metadata": {},
   "outputs": [],
   "source": [
    "addr = [ int(s,16) for s in re.findall('..', '000102866265') ]"
   ]
  },
  {
   "cell_type": "markdown",
   "metadata": {},
   "source": [
    "# Read meter"
   ]
  },
  {
   "cell_type": "code",
   "execution_count": 57,
   "metadata": {},
   "outputs": [
    {
     "data": {
      "text/plain": [
       "{'电能-组合有功总-当前': (19935.28, 'kWh'),\n",
       " '电能-组合有功总-上结算日': (19928.71, 'kWh'),\n",
       " 'A相电压': (233.2, 'V'),\n",
       " 'A相电流': (0.716, 'A'),\n",
       " '功率-瞬时总有功': ('158.80', 'W'),\n",
       " '功率-一分钟有功总平均': ('158.70', 'W'),\n",
       " '功率因数-总': (0.944, ''),\n",
       " '表内温度': (0.2, '°C'),\n",
       " '内部电池电压': (3.65, 'V'),\n",
       " '内部电池工作时间': ('2.58', '年'),\n",
       " '表号': ('000102866265', ''),\n",
       " '每月第1结算日': (1.0, '日.时'),\n",
       " '每月第2结算日': (99.99, '日.时'),\n",
       " '每月第3结算日': (99.99, '日.时'),\n",
       " '功率-A相': ('166.97', 'W'),\n",
       " '电能:本周期': ('6.57', 'kWh'),\n",
       " '日期时间': ('20201101 12:41:42', '')}"
      ]
     },
     "execution_count": 57,
     "metadata": {},
     "output_type": "execute_result"
    }
   ],
   "source": [
    "read_meter(chn, addr)"
   ]
  },
  {
   "cell_type": "code",
   "execution_count": 10,
   "metadata": {},
   "outputs": [
    {
     "name": "stdout",
     "output_type": "stream",
     "text": [
      "\n",
      "--- Read last outage timestamp of N = 1 ---\n",
      "Last outage timestamp: ff-1f-35 32:06:30 ----> ff-1b-35 3f:7f:22 \n",
      "\n",
      "--- Read energy (Current Month) ---\n",
      "Total: 1.48 kWh\n",
      "\n",
      "--- Read energy (Current Month) ---\n",
      "Peak: 0.00 kWh\n",
      "\n",
      "--- Read energy (Current Month) ---\n",
      "Trough: 1.48 kWh\n",
      "\n",
      "--- Read energy (Last 1 Month) ---\n",
      "Total: 0.00 kWh\n",
      "\n",
      "--- Read energy (Last 1 Month) ---\n",
      "Peak: 0.00 kWh\n",
      "\n",
      "--- Read energy (Last 1 Month) ---\n",
      "Trough: 0.00 kWh\n"
     ]
    }
   ],
   "source": [
    "read_last_outage_timestamp(chn, addr, 1, verbose)\n",
    "\n",
    "for m in range(0,2):\n",
    "    for n in [0,2,4]:\n",
    "        read_energy(chn, addr, m, n, verbose)"
   ]
  },
  {
   "cell_type": "markdown",
   "metadata": {},
   "source": [
    "# change Date & Time\n",
    "https://github.com/glx-technologies/meter-dlt645  \n",
    "运行前开前挡板按编程键\n",
    "\n",
    "    rx_ctrl    : 94  => success\n",
    "    rx_ctrl    : d4  => fail"
   ]
  },
  {
   "cell_type": "code",
   "execution_count": 46,
   "metadata": {},
   "outputs": [
    {
     "name": "stdout",
     "output_type": "stream",
     "text": [
      "2020年 11月 01日 星期日 12:37:15 CST\r\n"
     ]
    }
   ],
   "source": [
    "!date"
   ]
  },
  {
   "cell_type": "code",
   "execution_count": 44,
   "metadata": {},
   "outputs": [
    {
     "name": "stdout",
     "output_type": "stream",
     "text": [
      "tx_frame   : fe fe 68 88 83 06 12 00 00 68 14 10 34 34 33 37 37 44 44 44 33 33 33 33 33 34 44 53 b6 16 \n",
      "tx_addr    : 00 00 12 06 83 88 \n",
      "tx_ctrl    : 14 \n",
      "tx_payload : 01 01 00 04 04 11 11 11 00 00 00 00 00 01 11 20 \n",
      "wait...\n",
      "\n",
      "rx_frame   : 68 88 83 06 12 00 00 68 94 00 87 16 \n",
      "rx_addr    : 00 00 12 06 83 88 \n",
      "rx_ctrl    : 94 \n",
      "rx_payload : \n",
      "\n"
     ]
    }
   ],
   "source": [
    "change_date(chn, addr)"
   ]
  },
  {
   "cell_type": "code",
   "execution_count": 50,
   "metadata": {},
   "outputs": [
    {
     "name": "stdout",
     "output_type": "stream",
     "text": [
      "tx_frame   : fe fe 68 65 62 86 02 01 00 68 14 0f 35 34 33 37 37 44 44 44 33 33 33 33 89 73 45 26 16 \n",
      "tx_addr    : 00 01 02 86 62 65 \n",
      "tx_ctrl    : 14 \n",
      "tx_payload : 02 01 00 04 04 11 11 11 00 00 00 00 56 40 12 \n",
      "wait...\n",
      "\n",
      "rx_frame   : 68 65 62 86 02 01 00 68 d4 01 37 2c 16 \n",
      "rx_addr    : 00 01 02 86 62 65 \n",
      "rx_ctrl    : d4 \n",
      "rx_payload : 04 \n",
      "\n"
     ]
    }
   ],
   "source": [
    "change_time(chn, addr)"
   ]
  },
  {
   "cell_type": "markdown",
   "metadata": {},
   "source": [
    "# close channel"
   ]
  },
  {
   "cell_type": "code",
   "execution_count": 7,
   "metadata": {},
   "outputs": [],
   "source": [
    "chn.close()"
   ]
  }
 ],
 "metadata": {
  "kernelspec": {
   "display_name": "Python 3",
   "language": "python",
   "name": "python3"
  },
  "language_info": {
   "codemirror_mode": {
    "name": "ipython",
    "version": 3
   },
   "file_extension": ".py",
   "mimetype": "text/x-python",
   "name": "python",
   "nbconvert_exporter": "python",
   "pygments_lexer": "ipython3",
   "version": "3.8.3"
  }
 },
 "nbformat": 4,
 "nbformat_minor": 4
}
