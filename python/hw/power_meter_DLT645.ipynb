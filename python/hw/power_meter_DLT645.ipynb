{
 "cells": [
  {
   "cell_type": "code",
   "execution_count": 1,
   "metadata": {},
   "outputs": [],
   "source": [
    "import sys, re\n",
    "\n",
    "# https://github.com/fzinfz/meter-dlt645\n",
    "sys.path.append(\"/data/powermeter_dlt645/meter-dlt645\")\n",
    "\n",
    "from test_dlt645 import *\n",
    "import test_dlt645"
   ]
  },
  {
   "cell_type": "code",
   "execution_count": 2,
   "metadata": {},
   "outputs": [
    {
     "data": {
      "text/plain": [
       "True"
      ]
     },
     "execution_count": 2,
     "metadata": {},
     "output_type": "execute_result"
    }
   ],
   "source": [
    "verbose=0\n",
    "\n",
    "serial_port = '/dev/ttyUSB0'\n",
    "timeout_count = 10\n",
    "wait_for_read = 0.5\n",
    "\n",
    "chn=dlt645.Channel(port_id = serial_port, tmo_cnt = timeout_count, wait_for_read = wait_for_read)\n",
    "chn.open()"
   ]
  },
  {
   "cell_type": "code",
   "execution_count": 3,
   "metadata": {},
   "outputs": [
    {
     "name": "stdout",
     "output_type": "stream",
     "text": [
      "\n",
      "--- Read meter address with broadcase mode ---\n",
      "Meter address: 000102866265\n"
     ]
    },
    {
     "data": {
      "text/plain": [
       "1"
      ]
     },
     "execution_count": 3,
     "metadata": {},
     "output_type": "execute_result"
    }
   ],
   "source": [
    "read_meter_address(chn, verbose)"
   ]
  },
  {
   "cell_type": "code",
   "execution_count": 4,
   "metadata": {},
   "outputs": [
    {
     "name": "stdout",
     "output_type": "stream",
     "text": [
      "[0, 1, 2, 134, 98, 101]\n",
      "000102866265\n"
     ]
    },
    {
     "data": {
      "text/plain": [
       "[0, 1, 2, 134, 98, 101]"
      ]
     },
     "execution_count": 4,
     "metadata": {},
     "output_type": "execute_result"
    }
   ],
   "source": [
    "addr = chn.rx_addr\n",
    "print(addr)\n",
    "\n",
    "addr_human = ''.join([ '{0:0>2x}'.format(s) for s in addr ])\n",
    "print(addr_human)\n",
    "\n",
    "[ int(s,16) for s in re.findall('..',addr_human) ]"
   ]
  },
  {
   "cell_type": "code",
   "execution_count": 5,
   "metadata": {},
   "outputs": [
    {
     "name": "stdout",
     "output_type": "stream",
     "text": [
      "\n",
      "--- Read date ---\n",
      "Date: 20-10-30 Fri\n",
      "\n",
      "--- Read time ---\n",
      "Time: 16:45:29\n",
      "\n",
      "--- Read voltage ---\n",
      "Voltage: 229.4 V\n",
      "\n",
      "--- Read current ---\n",
      "Current: 0.482 A\n",
      "\n",
      "--- Read power ---\n",
      "Power: 0.0314 kW\n",
      "\n",
      "--- Read battery voltage ---\n",
      "Battery voltage: 3.65 V\n",
      "\n",
      "--- Read last outage timestamp of N = 1 ---\n",
      "Last outage timestamp: 20-10-28 15:37:28 ----> 20-10-28 15:38:56 \n",
      "\n",
      "--- Read energy (Current Month) ---\n",
      "Total: 19910.76 kWh\n",
      "\n",
      "--- Read energy (Current Month) ---\n",
      "Peak: 12090.54 kWh\n",
      "\n",
      "--- Read energy (Current Month) ---\n",
      "Trough: 7820.22 kWh\n",
      "\n",
      "--- Read energy (Last 1 Month) ---\n",
      "Total: 19483.45 kWh\n",
      "\n",
      "--- Read energy (Last 1 Month) ---\n",
      "Peak: 11785.79 kWh\n",
      "\n",
      "--- Read energy (Last 1 Month) ---\n",
      "Trough: 7697.65 kWh\n"
     ]
    }
   ],
   "source": [
    "read_date(chn, addr, verbose)\n",
    "read_time(chn, addr, verbose)    \n",
    "\n",
    "read_voltage(chn, addr, verbose)\n",
    "read_current(chn, addr, verbose)\n",
    "read_power(chn, addr, verbose)    \n",
    "# read_temperature(chn, addr, verbose)\n",
    "read_battery_voltage(chn, addr, verbose)\n",
    "\n",
    "read_last_outage_timestamp(chn, addr, 1, verbose)\n",
    "# read_preset_billing_time(chn, addr, verbose)\n",
    "\n",
    "# read_power_energy(chn, addr, verbose)\n",
    "\n",
    "for m in range(0,2):\n",
    "    for n in [0,2,4]:\n",
    "        read_energy(chn, addr, m, n, verbose)"
   ]
  },
  {
   "cell_type": "code",
   "execution_count": 6,
   "metadata": {},
   "outputs": [],
   "source": [
    "chn.close()"
   ]
  }
 ],
 "metadata": {
  "kernelspec": {
   "display_name": "Python 3",
   "language": "python",
   "name": "python3"
  },
  "language_info": {
   "codemirror_mode": {
    "name": "ipython",
    "version": 3
   },
   "file_extension": ".py",
   "mimetype": "text/x-python",
   "name": "python",
   "nbconvert_exporter": "python",
   "pygments_lexer": "ipython3",
   "version": "3.8.3"
  }
 },
 "nbformat": 4,
 "nbformat_minor": 4
}
