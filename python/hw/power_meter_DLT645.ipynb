{
 "cells": [
  {
   "cell_type": "code",
   "execution_count": 1,
   "metadata": {},
   "outputs": [],
   "source": [
    "import sys\n",
    "sys.path.append(\"/data/powermeter_dlt645/meter-dlt645\")\n",
    "\n",
    "from test_dlt645 import *\n",
    "import test_dlt645"
   ]
  },
  {
   "cell_type": "code",
   "execution_count": 2,
   "metadata": {},
   "outputs": [
    {
     "name": "stdout",
     "output_type": "stream",
     "text": [
      "Run timestamp is 2020-10-24 00:37:22\n",
      "\n",
      "---> No port specified. Use default /dev/ttyUSB0.\n",
      "\n",
      "---> No meter address, will use broadcast mode to retrieve.\n",
      "\n",
      "--- Read meter address with broadcase mode ---\n",
      "Meter address: 000102866265\n",
      "\n",
      "--- Read date ---\n",
      "Date: 20-10-24 Sat\n",
      "\n",
      "--- Read time ---\n",
      "Time: 00:27:07\n",
      "\n",
      "--- Read voltage ---\n",
      "Voltage: 239.5 V\n",
      "\n",
      "--- Read current ---\n",
      "Current: 0.816 A\n",
      "\n",
      "--- Read power ---\n",
      "Power: 0.1878 kW\n",
      "\n",
      "--- Read battery voltage ---\n",
      "Battery voltage: 3.65 V\n",
      "\n",
      "--- Read last outage timestamp of N = 1 ---\n",
      "Last outage timestamp: 20-10-13 16:18:16 ----> 20-10-13 16:27:34 \n",
      "\n",
      "--- Read energy (Current Month) ---\n",
      "Total: 19826.25 kWh\n",
      "\n",
      "--- Read energy (Current Month) ---\n",
      "Peak: 12031.59 kWh\n",
      "\n",
      "--- Read energy (Current Month) ---\n",
      "Trough: 7794.66 kWh\n",
      "\n",
      "--- Read energy (Last 1 Month) ---\n",
      "Total: 19483.45 kWh\n",
      "\n",
      "--- Read energy (Last 1 Month) ---\n",
      "Peak: 11785.79 kWh\n",
      "\n",
      "--- Read energy (Last 1 Month) ---\n",
      "Trough: 7697.65 kWh\n",
      "\n",
      "\n"
     ]
    }
   ],
   "source": [
    "test_dlt645._main(None)"
   ]
  }
 ],
 "metadata": {
  "kernelspec": {
   "display_name": "Python 3",
   "language": "python",
   "name": "python3"
  },
  "language_info": {
   "codemirror_mode": {
    "name": "ipython",
    "version": 3
   },
   "file_extension": ".py",
   "mimetype": "text/x-python",
   "name": "python",
   "nbconvert_exporter": "python",
   "pygments_lexer": "ipython3",
   "version": "3.8.3"
  }
 },
 "nbformat": 4,
 "nbformat_minor": 4
}
