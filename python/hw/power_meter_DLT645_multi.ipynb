{
 "cells": [
  {
   "cell_type": "code",
   "execution_count": 1,
   "metadata": {},
   "outputs": [],
   "source": [
    "import sys, re\n",
    "import pprint\n",
    "\n",
    "# https://github.com/fzinfz/meter-dlt645\n",
    "sys.path.append(\"/data/powermeter_dlt645/meter-dlt645\")\n",
    "\n",
    "from test_dlt645 import *\n",
    "import test_dlt645\n",
    "\n",
    "def read_chn(addr, cmd, verbose = 0):\n",
    "    chn.encode(addr, 0x11, cmd)\n",
    "    chn.xchg_data(verbose)\n",
    "    return chn.rx_payload"
   ]
  },
  {
   "cell_type": "code",
   "execution_count": 2,
   "metadata": {},
   "outputs": [],
   "source": [
    "verbose=0\n",
    "\n",
    "serial_port = '/dev/ttyUSB0'\n",
    "timeout_count = 10\n",
    "wait_for_read = 0.5\n",
    "\n",
    "chn=dlt645.Channel(port_id = serial_port, tmo_cnt = timeout_count, wait_for_read = wait_for_read)"
   ]
  },
  {
   "cell_type": "code",
   "execution_count": 3,
   "metadata": {},
   "outputs": [],
   "source": [
    "#                        （DI3~0, 整数位数，小数位数， 单位）\n",
    "D = {\n",
    "    '当前组合有功总电能':       ('00 00 00 00', 6, 2, 'kWh'),\n",
    "    '上月组合有功总电能':       ('00 00 00 01', 6, 2, 'kWh'),\n",
    "    \n",
    "    'A相电压':             ('02 01 01 00', 3, 1, 'V'),    \n",
    "    'A相电流':             ('02 02 01 00', 3, 3, 'A'),    \n",
    "    '瞬时总有功功率':       ('02 03 00 00', 2, 4, 'kW'),    \n",
    "\n",
    "    '总功率因数':           ('02 06 00 00', 1, 3, ''),  \n",
    "    \n",
    "}\n",
    "\n",
    "def get_data(addr, item):\n",
    "    d = D[item]    \n",
    "    payload = read_chn( addr, [ int(x) for x in d[0].split(' ')[::-1] ] )\n",
    "    \n",
    "    len_whole, len_decimal = d[1], d[2]\n",
    "    len_payload = int( (len_whole + len_decimal) / 2 )\n",
    "    return int(''.join([ \"%02x\" % x  for x in payload[::-1][:len_payload] ])) / pow(10, len_decimal)\n",
    "\n",
    "\n",
    "def read_meter(addr):\n",
    "    \n",
    "    result = {}\n",
    "\n",
    "    for item in D:\n",
    "        result[item] = get_data(addr, item)\n",
    "\n",
    "    result['A相电压x电流'] = \"{:,.2f}\".format( result['A相电压'] * result['A相电流'] )\n",
    "    result['当前-上月'] = \"{:,.2f}\".format( result['当前组合有功总电能'] - result['上月组合有功总电能'] )\n",
    "    return result"
   ]
  },
  {
   "cell_type": "markdown",
   "metadata": {},
   "source": [
    "not working: \n",
    "\n",
    "    '瞬时总视在功率':       ('02 05 00 00', 2, 4, 'kVA'),    \n",
    "    '零线电流':             ('02 80 00 00', 1, 3, 'A'),  \n",
    "    '一分钟有功总平均功率':   ('02 80 00 03', 2, 4, 'kW'),          "
   ]
  },
  {
   "cell_type": "code",
   "execution_count": 4,
   "metadata": {
    "scrolled": false
   },
   "outputs": [
    {
     "name": "stdout",
     "output_type": "stream",
     "text": [
      "\n",
      " ==================== 000002005433 ====================\n",
      "{'A相电压': 239.8,\n",
      " 'A相电压x电流': '90.40',\n",
      " 'A相电流': 0.377,\n",
      " '上月组合有功总电能': 779.63,\n",
      " '当前-上月': '134.78',\n",
      " '当前组合有功总电能': 914.41,\n",
      " '总功率因数': 0.109,\n",
      " '瞬时总有功功率': 0.0099}\n",
      "\n",
      " ==================== 000102866265 ====================\n",
      "{'A相电压': 239.5,\n",
      " 'A相电压x电流': '143.70',\n",
      " 'A相电流': 0.6,\n",
      " '上月组合有功总电能': 19483.45,\n",
      " '当前-上月': '432.54',\n",
      " '当前组合有功总电能': 19915.99,\n",
      " '总功率因数': 0.725,\n",
      " '瞬时总有功功率': 0.1049}\n"
     ]
    }
   ],
   "source": [
    "s = '''\n",
    "000002005433\n",
    "000102866265\n",
    "'''\n",
    "\n",
    "chn.open()\n",
    "\n",
    "result = {}\n",
    "\n",
    "for addr_human in s.strip().splitlines():\n",
    "    \n",
    "    print('\\n', '='* 20, addr_human, '='* 20)\n",
    "    addr = [ int(s,16) for s in re.findall('..',addr_human) ]\n",
    "    rs = read_meter(addr)\n",
    "    pprint.pprint(rs)\n",
    "    result[addr_human] = rs"
   ]
  },
  {
   "cell_type": "code",
   "execution_count": 5,
   "metadata": {},
   "outputs": [],
   "source": [
    "chn.close()"
   ]
  }
 ],
 "metadata": {
  "kernelspec": {
   "display_name": "Python 3",
   "language": "python",
   "name": "python3"
  },
  "language_info": {
   "codemirror_mode": {
    "name": "ipython",
    "version": 3
   },
   "file_extension": ".py",
   "mimetype": "text/x-python",
   "name": "python",
   "nbconvert_exporter": "python",
   "pygments_lexer": "ipython3",
   "version": "3.8.3"
  }
 },
 "nbformat": 4,
 "nbformat_minor": 4
}
