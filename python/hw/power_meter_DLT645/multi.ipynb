{
 "cells": [
  {
   "cell_type": "code",
   "execution_count": 1,
   "metadata": {},
   "outputs": [],
   "source": [
    "%load_ext autoreload\n",
    "%autoreload 2\n",
    "\n",
    "import sys\n",
    "\n",
    "# https://github.com/fzinfz/flask-DLT645\n",
    "sys.path.append(\"/data/flask-DLT645/lib\")\n",
    "\n",
    "from read import *\n",
    "\n",
    "from conf import *\n",
    "# from conf_prod import *"
   ]
  },
  {
   "cell_type": "code",
   "execution_count": 2,
   "metadata": {},
   "outputs": [
    {
     "data": {
      "text/html": [
       "<div>\n",
       "<style scoped>\n",
       "    .dataframe tbody tr th:only-of-type {\n",
       "        vertical-align: middle;\n",
       "    }\n",
       "\n",
       "    .dataframe tbody tr th {\n",
       "        vertical-align: top;\n",
       "    }\n",
       "\n",
       "    .dataframe thead th {\n",
       "        text-align: right;\n",
       "    }\n",
       "</style>\n",
       "<table border=\"1\" class=\"dataframe\">\n",
       "  <thead>\n",
       "    <tr style=\"text-align: right;\">\n",
       "      <th></th>\n",
       "      <th>Tag</th>\n",
       "    </tr>\n",
       "    <tr>\n",
       "      <th>Addr</th>\n",
       "      <th></th>\n",
       "    </tr>\n",
       "  </thead>\n",
       "  <tbody>\n",
       "    <tr>\n",
       "      <th>010128318569</th>\n",
       "      <td>表1</td>\n",
       "    </tr>\n",
       "    <tr>\n",
       "      <th>001522454104</th>\n",
       "      <td>表2</td>\n",
       "    </tr>\n",
       "  </tbody>\n",
       "</table>\n",
       "</div>"
      ],
      "text/plain": [
       "             Tag\n",
       "Addr            \n",
       "010128318569  表1\n",
       "001522454104  表2"
      ]
     },
     "execution_count": 2,
     "metadata": {},
     "output_type": "execute_result"
    }
   ],
   "source": [
    "devices = Meters(meter_list_str)\n",
    "df_meters = devices.get_df()\n",
    "df_meters"
   ]
  },
  {
   "cell_type": "code",
   "execution_count": 3,
   "metadata": {
    "scrolled": false
   },
   "outputs": [
    {
     "name": "stdout",
     "output_type": "stream",
     "text": [
      "\n",
      " ===== ['010128318569', '表1'] =====\n",
      "{'A相电压': (227.3, 'V'),\n",
      " 'A相电流': (0.354, 'A'),\n",
      " '功率-A相': ('80.46', 'W'),\n",
      " '功率-一分钟有功总平均': ('48.00', 'W'),\n",
      " '功率-瞬时总有功': ('49.00', 'W'),\n",
      " '功率因数-总': (0.534, ''),\n",
      " '电能-组合有功总-上结算日': (0.0, 'kWh'),\n",
      " '电能-组合有功总-当前': (0.52, 'kWh'),\n",
      " '电能:本周期': ('0.52', 'kWh')}\n",
      "\n",
      " ===== ['001522454104', '表2'] =====\n",
      "{'A相电压': (227.4, 'V'),\n",
      " 'A相电流': (0.0, 'A'),\n",
      " '功率-A相': ('0.00', 'W'),\n",
      " '功率-一分钟有功总平均': ('0.20', 'W'),\n",
      " '功率-瞬时总有功': ('0.00', 'W'),\n",
      " '功率因数-总': (1.0, ''),\n",
      " '电能-组合有功总-上结算日': (1.48, 'kWh'),\n",
      " '电能-组合有功总-当前': (2.03, 'kWh'),\n",
      " '电能:本周期': ('0.55', 'kWh')}\n"
     ]
    }
   ],
   "source": [
    "result = devices.read_meters(chn, level=3, verbose=0)"
   ]
  },
  {
   "cell_type": "code",
   "execution_count": 4,
   "metadata": {},
   "outputs": [
    {
     "data": {
      "text/html": [
       "<div>\n",
       "<style scoped>\n",
       "    .dataframe tbody tr th:only-of-type {\n",
       "        vertical-align: middle;\n",
       "    }\n",
       "\n",
       "    .dataframe tbody tr th {\n",
       "        vertical-align: top;\n",
       "    }\n",
       "\n",
       "    .dataframe thead th {\n",
       "        text-align: right;\n",
       "    }\n",
       "</style>\n",
       "<table border=\"1\" class=\"dataframe\">\n",
       "  <thead>\n",
       "    <tr style=\"text-align: right;\">\n",
       "      <th></th>\n",
       "      <th>Tag</th>\n",
       "      <th>电能-组合有功总-上结算日</th>\n",
       "      <th>A相电压</th>\n",
       "      <th>A相电流</th>\n",
       "      <th>功率-一分钟有功总平均</th>\n",
       "      <th>功率因数-总</th>\n",
       "      <th>功率-瞬时总有功</th>\n",
       "      <th>电能-组合有功总-当前</th>\n",
       "      <th>功率-A相</th>\n",
       "      <th>电能:本周期</th>\n",
       "    </tr>\n",
       "    <tr>\n",
       "      <th>Addr</th>\n",
       "      <th></th>\n",
       "      <th></th>\n",
       "      <th></th>\n",
       "      <th></th>\n",
       "      <th></th>\n",
       "      <th></th>\n",
       "      <th></th>\n",
       "      <th></th>\n",
       "      <th></th>\n",
       "      <th></th>\n",
       "    </tr>\n",
       "  </thead>\n",
       "  <tbody>\n",
       "    <tr>\n",
       "      <th>010128318569</th>\n",
       "      <td>表1</td>\n",
       "      <td>0.00</td>\n",
       "      <td>227.3</td>\n",
       "      <td>0.354</td>\n",
       "      <td>48.00</td>\n",
       "      <td>0.534</td>\n",
       "      <td>49.00</td>\n",
       "      <td>0.52</td>\n",
       "      <td>80.46</td>\n",
       "      <td>0.52</td>\n",
       "    </tr>\n",
       "    <tr>\n",
       "      <th>001522454104</th>\n",
       "      <td>表2</td>\n",
       "      <td>1.48</td>\n",
       "      <td>227.4</td>\n",
       "      <td>0.000</td>\n",
       "      <td>0.20</td>\n",
       "      <td>1.000</td>\n",
       "      <td>0.00</td>\n",
       "      <td>2.03</td>\n",
       "      <td>0.00</td>\n",
       "      <td>0.55</td>\n",
       "    </tr>\n",
       "  </tbody>\n",
       "</table>\n",
       "</div>"
      ],
      "text/plain": [
       "             Tag  电能-组合有功总-上结算日   A相电压   A相电流 功率-一分钟有功总平均  功率因数-总 功率-瞬时总有功  \\\n",
       "Addr                                                                         \n",
       "010128318569  表1           0.00  227.3  0.354       48.00   0.534    49.00   \n",
       "001522454104  表2           1.48  227.4  0.000        0.20   1.000     0.00   \n",
       "\n",
       "              电能-组合有功总-当前  功率-A相 电能:本周期  \n",
       "Addr                                     \n",
       "010128318569         0.52  80.46   0.52  \n",
       "001522454104         2.03   0.00   0.55  "
      ]
     },
     "execution_count": 4,
     "metadata": {},
     "output_type": "execute_result"
    }
   ],
   "source": [
    "import copy\n",
    "result_list = copy.deepcopy(result)\n",
    "\n",
    "for k,v in result_list.items():\n",
    "    v['Addr'] = k, ''\n",
    "\n",
    "for m in result_list.values():\n",
    "    for k in m.keys():\n",
    "        m[k] = m[k][0]\n",
    "\n",
    "df = pd.DataFrame(result_list.values()).set_index('Addr')\n",
    "df = df_meters[['Tag']].merge(df, on='Addr')\n",
    "df"
   ]
  }
 ],
 "metadata": {
  "kernelspec": {
   "display_name": "Python 3",
   "language": "python",
   "name": "python3"
  },
  "language_info": {
   "codemirror_mode": {
    "name": "ipython",
    "version": 3
   },
   "file_extension": ".py",
   "mimetype": "text/x-python",
   "name": "python",
   "nbconvert_exporter": "python",
   "pygments_lexer": "ipython3",
   "version": "3.8.3"
  }
 },
 "nbformat": 4,
 "nbformat_minor": 4
}
