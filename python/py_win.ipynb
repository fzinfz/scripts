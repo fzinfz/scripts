{
 "cells": [
  {
   "cell_type": "markdown",
   "metadata": {},
   "source": [
    "# Console Mode\n",
    "https://docs.microsoft.com/en-us/windows/console/setconsolemode"
   ]
  },
  {
   "cell_type": "code",
   "execution_count": null,
   "metadata": {},
   "outputs": [],
   "source": [
    "from win32api import STD_INPUT_HANDLE # -10\n",
    "readHandle = GetStdHandle(STD_INPUT_HANDLE) # <PyConsoleScreenBuffer:684>\n",
    "\n",
    "ENABLE_PROCESSED_INPUT = 0x0001\n",
    "ENABLE_LINE_INPUT = 0x0002\n",
    "ENABLE_ECHO_INPUT = 0x0004\n",
    "ENABLE_WINDOW_INPUT = 0x0008\n",
    "ENABLE_MOUSE_INPUT = 0x0010\n",
    "ENABLE_INSERT_MODE = 0x0020\n",
    "ENABLE_QUICK_EDIT_MODE = 0x0040 # 1<<6\n",
    "ENABLE_EXTENDED_FLAGS = 0x0080\n",
    "ENABLE_VIRTUAL_TERMINAL_INPUT = 0x0200\n",
    "\n",
    "currentConsoleMode = readHandle.GetConsoleMode()           # 503 == 0b111110111\n",
    "readHandle.SetConsoleMode( currentConsoleMode & ~(1<<6) )  # 439 == 0b110110111\n",
    "print('ConsoleMode', currentConsoleMode, ' -> ', readHandle.GetConsoleMode() )\n",
    "\n",
    "readHandle.SetConsoleMode( currentConsoleMode | 1<<6 )     # 503 == 0b111110111\n",
    "readHandle.SetConsoleMode(ENABLE_EXTENDED_FLAGS|ENABLE_QUICK_EDIT_MODE) # 192"
   ]
  },
  {
   "cell_type": "markdown",
   "metadata": {},
   "source": [
    "# sys"
   ]
  },
  {
   "cell_type": "code",
   "execution_count": 1,
   "metadata": {},
   "outputs": [
    {
     "data": {
      "text/plain": [
       "'3.7.0 (default, Jun 28 2018, 08:04:48) [MSC v.1912 64 bit (AMD64)]'"
      ]
     },
     "execution_count": 1,
     "metadata": {},
     "output_type": "execute_result"
    }
   ],
   "source": [
    "import sys, psutil\n",
    "sys.version"
   ]
  },
  {
   "cell_type": "code",
   "execution_count": 26,
   "metadata": {},
   "outputs": [
    {
     "data": {
      "text/plain": [
       "['',\n",
       " 'd:\\\\GitHub\\\\scripts\\\\jupyter',\n",
       " 'D:\\\\_soft\\\\Anaconda3\\\\python37.zip',\n",
       " 'D:\\\\_soft\\\\Anaconda3\\\\DLLs',\n",
       " 'D:\\\\_soft\\\\Anaconda3\\\\lib',\n",
       " 'D:\\\\_soft\\\\Anaconda3',\n",
       " 'D:\\\\_soft\\\\Anaconda3\\\\lib\\\\site-packages',\n",
       " 'D:\\\\_soft\\\\Anaconda3\\\\lib\\\\site-packages\\\\win32',\n",
       " 'D:\\\\_soft\\\\Anaconda3\\\\lib\\\\site-packages\\\\win32\\\\lib',\n",
       " 'D:\\\\_soft\\\\Anaconda3\\\\lib\\\\site-packages\\\\Pythonwin',\n",
       " 'D:\\\\_soft\\\\Anaconda3\\\\lib\\\\site-packages\\\\IPython\\\\extensions',\n",
       " 'C:\\\\Users\\\\Administrator\\\\.ipython']"
      ]
     },
     "execution_count": 26,
     "metadata": {},
     "output_type": "execute_result"
    }
   ],
   "source": [
    "sys.path"
   ]
  },
  {
   "cell_type": "code",
   "execution_count": 86,
   "metadata": {},
   "outputs": [
    {
     "data": {
      "text/plain": [
       "'win32'"
      ]
     },
     "execution_count": 86,
     "metadata": {},
     "output_type": "execute_result"
    }
   ],
   "source": [
    "sys.platform"
   ]
  },
  {
   "cell_type": "markdown",
   "metadata": {},
   "source": [
    "https://psutil.readthedocs.io/en/latest/"
   ]
  },
  {
   "cell_type": "code",
   "execution_count": 12,
   "metadata": {},
   "outputs": [
    {
     "name": "stdout",
     "output_type": "stream",
     "text": [
      "157\n"
     ]
    },
    {
     "data": {
      "text/plain": [
       "[psutil.Process(pid=0, name='System Idle Process', started='16:22:44'),\n",
       " psutil.Process(pid=4, name='System', started='16:22:44')]"
      ]
     },
     "execution_count": 12,
     "metadata": {},
     "output_type": "execute_result"
    }
   ],
   "source": [
    "processes = list(psutil.process_iter())\n",
    "print(len(processes))\n",
    "processes[:2]"
   ]
  },
  {
   "cell_type": "code",
   "execution_count": 20,
   "metadata": {},
   "outputs": [
    {
     "name": "stdout",
     "output_type": "stream",
     "text": [
      "213\n"
     ]
    },
    {
     "data": {
      "text/plain": [
       "[<WindowsService(name='AJRouter', display_name='AllJoyn Router Service') at 1281891974952>,\n",
       " <WindowsService(name='ALG', display_name='Application Layer Gateway Service') at 1281891975008>]"
      ]
     },
     "execution_count": 20,
     "metadata": {},
     "output_type": "execute_result"
    }
   ],
   "source": [
    "WindowsServices = list(psutil.win_service_iter())\n",
    "print(len(WindowsServices))\n",
    "WindowsServices[:2]"
   ]
  },
  {
   "cell_type": "code",
   "execution_count": 85,
   "metadata": {
    "scrolled": true
   },
   "outputs": [
    {
     "name": "stdout",
     "output_type": "stream",
     "text": [
      "8.00 GB total\n",
      "1.04 GB available\n",
      "87.0 percent\n",
      "6.96 GB used\n",
      "1.04 GB free\n"
     ]
    }
   ],
   "source": [
    "int2gb = lambda x: \"%.2f GB\" % float( int(x)/1024/1024/1024 ) if x > 1e8 else x\n",
    "\n",
    "m = psutil.virtual_memory()\n",
    "for a in m._fields: \n",
    "    print(int2gb(getattr(m, a)), a)"
   ]
  },
  {
   "cell_type": "code",
   "execution_count": 5,
   "metadata": {},
   "outputs": [
    {
     "name": "stdout",
     "output_type": "stream",
     "text": [
      "CPU count - Pysical: 2 / Logical: 2\n"
     ]
    }
   ],
   "source": [
    "print(\"CPU count - Pysical: \" + str( psutil.cpu_count(logical=False) ) + \" / Logical: \" + str( psutil.cpu_count() ) )"
   ]
  },
  {
   "cell_type": "markdown",
   "metadata": {},
   "source": [
    "# pathlib"
   ]
  },
  {
   "cell_type": "code",
   "execution_count": 108,
   "metadata": {},
   "outputs": [
    {
     "data": {
      "text/plain": [
       "WindowsPath('d:/GitHub/scripts/jupyter')"
      ]
     },
     "execution_count": 108,
     "metadata": {},
     "output_type": "execute_result"
    }
   ],
   "source": [
    "from pathlib import Path\n",
    "p = Path('.')\n",
    "p.absolute()"
   ]
  },
  {
   "cell_type": "code",
   "execution_count": 132,
   "metadata": {},
   "outputs": [
    {
     "data": {
      "text/plain": [
       "PureWindowsPath('C:/Users/Administrator')"
      ]
     },
     "execution_count": 132,
     "metadata": {},
     "output_type": "execute_result"
    }
   ],
   "source": [
    "from pathlib import PurePath\n",
    "pp = PurePath(r'C:\\Users\\Administrator')\n",
    "pp"
   ]
  },
  {
   "cell_type": "code",
   "execution_count": 143,
   "metadata": {},
   "outputs": [
    {
     "data": {
      "text/plain": [
       "PurePosixPath('C:\\\\/Users/Administrator')"
      ]
     },
     "execution_count": 143,
     "metadata": {},
     "output_type": "execute_result"
    }
   ],
   "source": [
    "import pathlib\n",
    "pathlib.PurePosixPath(pp)"
   ]
  },
  {
   "cell_type": "code",
   "execution_count": 133,
   "metadata": {},
   "outputs": [
    {
     "name": "stdout",
     "output_type": "stream",
     "text": [
      "anchor \t C:\\\n",
      "drive \t C:\n",
      "joinpath \t <bound method PurePath.joinpath of PureWindowsPath('C:/Users/Administrator')>\n",
      "match \t <bound method PurePath.match of PureWindowsPath('C:/Users/Administrator')>\n",
      "name \t Administrator\n",
      "parent \t C:\\Users\n",
      "parents \t <PureWindowsPath.parents>\n",
      "parts \t ('C:\\\\', 'Users', 'Administrator')\n",
      "root \t \\\n",
      "stem \t Administrator\n",
      "suffix \t \n",
      "suffixes \t []\n"
     ]
    }
   ],
   "source": [
    "for a in sorted([x for x in pp.__dir__() if not '_' in x]):\n",
    "    print(a, '\\t', pp.__getattribute__(a))"
   ]
  },
  {
   "cell_type": "code",
   "execution_count": 103,
   "metadata": {},
   "outputs": [
    {
     "data": {
      "text/plain": [
       "set()"
      ]
     },
     "execution_count": 103,
     "metadata": {},
     "output_type": "execute_result"
    }
   ],
   "source": [
    "set(dir(pp)) -  set(dir(p))"
   ]
  },
  {
   "cell_type": "markdown",
   "metadata": {},
   "source": [
    "https://docs.python.org/3/library/pathlib.html\n",
    "\n",
    "PurePath ... don’t have any OS-accessing operations."
   ]
  },
  {
   "cell_type": "code",
   "execution_count": 148,
   "metadata": {},
   "outputs": [
    {
     "name": "stdout",
     "output_type": "stream",
     "text": [
      "['__enter__', '__exit__', '_accessor', '_closed', '_make_child_relpath', '_opener', '_raise_closed', '_raw_open', 'absolute', 'chmod', 'cwd', 'exists', 'expanduser', 'glob', 'group', 'home', 'is_block_device', 'is_char_device', 'is_dir', 'is_fifo', 'is_file', 'is_mount', 'is_socket', 'is_symlink', 'iterdir', 'lchmod', 'lstat', 'mkdir', 'open', 'owner', 'read_bytes', 'read_text', 'rename', 'replace', 'resolve', 'rglob', 'rmdir', 'samefile', 'stat', 'symlink_to', 'touch', 'unlink', 'write_bytes', 'write_text']\n"
     ]
    }
   ],
   "source": [
    "print(sorted(set(dir(p)) -  set(dir(pp))))"
   ]
  },
  {
   "cell_type": "code",
   "execution_count": 91,
   "metadata": {},
   "outputs": [
    {
     "data": {
      "text/plain": [
       "[WindowsPath('.ipynb_checkpoints')]"
      ]
     },
     "execution_count": 91,
     "metadata": {},
     "output_type": "execute_result"
    }
   ],
   "source": [
    "[x for x in p.iterdir() if x.is_dir()]"
   ]
  },
  {
   "cell_type": "code",
   "execution_count": 162,
   "metadata": {},
   "outputs": [
    {
     "data": {
      "text/plain": [
       "WindowsPath('d:/GitHub/scripts/jupyter')"
      ]
     },
     "execution_count": 162,
     "metadata": {},
     "output_type": "execute_result"
    }
   ],
   "source": [
    "p.absolute()"
   ]
  },
  {
   "cell_type": "code",
   "execution_count": 164,
   "metadata": {},
   "outputs": [
    {
     "data": {
      "text/plain": [
       "[WindowsPath('../bbr_enable.sh'),\n",
       " WindowsPath('../deprecated/net_bridge-create--name--port--dhcp_or_manual.sh')]"
      ]
     },
     "execution_count": 164,
     "metadata": {},
     "output_type": "execute_result"
    }
   ],
   "source": [
    "sorted(p.glob(\"../**/*.sh\"))[:2]"
   ]
  },
  {
   "cell_type": "code",
   "execution_count": 6,
   "metadata": {},
   "outputs": [
    {
     "data": {
      "text/plain": [
       "([b' Volume in drive C has no label.',\n",
       "  b' Volume Serial Number is 2CF7-C1B5',\n",
       "  b'',\n",
       "  b' Directory of c:\\\\',\n",
       "  b'',\n",
       "  b'11/30/2018  11:29 AM             2,208 cvm_init.log',\n",
       "  b'11/30/2018  05:21 PM    <DIR>          inetpub',\n",
       "  b'03/13/2017  06:09 PM            61,440 mynetcfg.exe',\n",
       "  b'07/16/2016  09:23 PM    <DIR>          PerfLogs',\n",
       "  b'11/30/2018  11:17 PM    <DIR>          Program Files',\n",
       "  b'11/30/2018  07:59 PM    <DIR>          Program Files (x86)',\n",
       "  b'11/30/2018  09:24 PM            37,043 tmp.xlsx',\n",
       "  b'11/30/2018  05:22 PM    <DIR>          Users',\n",
       "  b'11/30/2018  11:29 AM             1,545 vm_inner_cfg.log',\n",
       "  b'11/30/2018  06:01 PM    <DIR>          Windows',\n",
       "  b'               4 File(s)        102,236 bytes',\n",
       "  b'               6 Dir(s)  20,093,906,944 bytes free'],\n",
       " None)"
      ]
     },
     "execution_count": 6,
     "metadata": {},
     "output_type": "execute_result"
    }
   ],
   "source": [
    "import subprocess\n",
    "p = subprocess.Popen(r\"dir c:\\ \", stdout=subprocess.PIPE, shell=True)\n",
    "stdout, stderr = p.communicate()\n",
    "stdout.splitlines(), stderr"
   ]
  }
 ],
 "metadata": {
  "anaconda-cloud": {},
  "kernelspec": {
   "display_name": "Python 3",
   "language": "python",
   "name": "python3"
  },
  "language_info": {
   "codemirror_mode": {
    "name": "ipython",
    "version": 3
   },
   "file_extension": ".py",
   "mimetype": "text/x-python",
   "name": "python",
   "nbconvert_exporter": "python",
   "pygments_lexer": "ipython3",
   "version": "3.7.0"
  }
 },
 "nbformat": 4,
 "nbformat_minor": 1
}
