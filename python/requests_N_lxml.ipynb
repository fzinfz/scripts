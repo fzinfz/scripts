{
 "cells": [
  {
   "cell_type": "code",
   "execution_count": null,
   "metadata": {
    "collapsed": true
   },
   "outputs": [],
   "source": [
    "import requests\n",
    "r = requests.get('')\n",
    "r = requests.post('', data={})\n",
    "r = requests.put('')\n",
    "r = requests.delete('')"
   ]
  },
  {
   "cell_type": "code",
   "execution_count": 107,
   "metadata": {},
   "outputs": [
    {
     "data": {
      "text/plain": [
       "b'{\"count\":2,\"next\":null,\"previous\":null,\"results\":[{\"url\":\"http://127.0.0.1:8000/api/contacts/1/\",\"name\":\"n1-admin\",\"vcard\":\"v1-admin\"},{\"url\":\"http://127.0.0.1:8000/api/contacts/2/\",\"name\":\"n2-api\",\"vcard\":\"v2-api\"}]}'"
      ]
     },
     "execution_count": 107,
     "metadata": {},
     "output_type": "execute_result"
    }
   ],
   "source": [
    "import requests\n",
    "o = {\n",
    "    \"name\": v.fn.value,\n",
    "    \"vcard\": s\n",
    "}\n",
    "\n",
    "r = requests.post(args.url, auth = (args.user[0], args.password[0]), data =o )  \n",
    "print(r.reason)"
   ]
  },
  {
   "cell_type": "code",
   "execution_count": 2,
   "metadata": {},
   "outputs": [
    {
     "data": {
      "text/plain": [
       "('/tmp/file_manager.py', <http.client.HTTPMessage at 0x7fb1934a2400>)"
      ]
     },
     "execution_count": 2,
     "metadata": {},
     "output_type": "execute_result"
    }
   ],
   "source": [
    "from urllib import request\n",
    "url = 'https://gist.githubusercontent.com/omz/3823483/raw/3fbae981237897406db6a47984384082ab3360cf/FileTransfer.py'\n",
    "request.urlretrieve(url, \"/tmp/file_manager.py\")"
   ]
  },
  {
   "cell_type": "code",
   "execution_count": null,
   "metadata": {
    "collapsed": true
   },
   "outputs": [],
   "source": [
    "#class to json obj, from: http://stackoverflow.com/questions/3768895\n",
    "from json import JSONEncoder\n",
    "class MyEncoder(JSONEncoder):\n",
    "    def default(self, o):\n",
    "        return o.__dict__    \n",
    "\n",
    "j = MyEncoder().encode(p)\n",
    "json.loads(j)\n",
    "\n",
    "with open('allgoods.json', 'w') as outfile:\n",
    "    json.dump(map_goods, outfile,  sort_keys=True, indent=4 )"
   ]
  },
  {
   "cell_type": "code",
   "execution_count": 37,
   "metadata": {},
   "outputs": [
    {
     "name": "stdout",
     "output_type": "stream",
     "text": [
      "<root>\n",
      "  <child1/>\n",
      "  <child2/>\n",
      "</root>\n",
      "\n"
     ]
    }
   ],
   "source": [
    "from lxml import etree\n",
    "root = etree.fromstring(b'<root>\\n  <child1/>\\n  <child2/>\\n</root>\\n')\n",
    "print(etree.tostring(root,pretty_print=True).decode())"
   ]
  }
 ],
 "metadata": {
  "anaconda-cloud": {},
  "kernelspec": {
   "display_name": "Python 3",
   "language": "python",
   "name": "python3"
  },
  "language_info": {
   "codemirror_mode": {
    "name": "ipython",
    "version": 3
   },
   "file_extension": ".py",
   "mimetype": "text/x-python",
   "name": "python",
   "nbconvert_exporter": "python",
   "pygments_lexer": "ipython3",
   "version": "3.6.3"
  }
 },
 "nbformat": 4,
 "nbformat_minor": 1
}
