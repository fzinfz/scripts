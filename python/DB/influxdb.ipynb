{
 "cells": [
  {
   "cell_type": "markdown",
   "metadata": {},
   "source": [
    "https://www.influxdata.com/blog/getting-started-python-influxdb/"
   ]
  },
  {
   "cell_type": "code",
   "execution_count": 4,
   "metadata": {},
   "outputs": [
    {
     "data": {
      "text/plain": [
       "<influxdb.client.InfluxDBClient at 0x7fa33c1b1358>"
      ]
     },
     "execution_count": 4,
     "metadata": {},
     "output_type": "execute_result"
    }
   ],
   "source": [
    "from influxdb import InfluxDBClient\n",
    "client = InfluxDBClient(host='localhost', port=8086)\n",
    "db_name = 'pyexample'\n",
    "client"
   ]
  },
  {
   "cell_type": "code",
   "execution_count": 29,
   "metadata": {
    "collapsed": true
   },
   "outputs": [],
   "source": [
    "client.create_database(db_name)"
   ]
  },
  {
   "cell_type": "code",
   "execution_count": 27,
   "metadata": {
    "collapsed": true
   },
   "outputs": [],
   "source": [
    "client.drop_database(db_name)"
   ]
  },
  {
   "cell_type": "code",
   "execution_count": 30,
   "metadata": {},
   "outputs": [
    {
     "data": {
      "text/plain": [
       "[{'name': '_internal'}, {'name': 'ping'}, {'name': 'pyexample'}]"
      ]
     },
     "execution_count": 30,
     "metadata": {},
     "output_type": "execute_result"
    }
   ],
   "source": [
    "client.get_list_database()"
   ]
  },
  {
   "cell_type": "code",
   "execution_count": 31,
   "metadata": {
    "collapsed": true
   },
   "outputs": [],
   "source": [
    "client.switch_database(db_name)"
   ]
  },
  {
   "cell_type": "code",
   "execution_count": 7,
   "metadata": {},
   "outputs": [],
   "source": [
    "import platform\n",
    "hostname = platform.node()"
   ]
  },
  {
   "cell_type": "code",
   "execution_count": 32,
   "metadata": {},
   "outputs": [
    {
     "data": {
      "text/plain": [
       "True"
      ]
     },
     "execution_count": 32,
     "metadata": {},
     "output_type": "execute_result"
    }
   ],
   "source": [
    "json_body = [\n",
    "    { \"measurement\":'ping', \"tags\": {\"host\": \"us\"}, \"fields\": {\"value\": \"160\"} },\n",
    "    { \"measurement\":'ping', \"tags\": {\"host\": \"cn\"}, \"fields\": {\"value\": \"5\"} },\n",
    "]\n",
    "client.write_points(json_body) # \"measurement\" & \"fields\" required"
   ]
  },
  {
   "cell_type": "code",
   "execution_count": 46,
   "metadata": {},
   "outputs": [
    {
     "data": {
      "text/plain": [
       "True"
      ]
     },
     "execution_count": 46,
     "metadata": {},
     "output_type": "execute_result"
    }
   ],
   "source": [
    "json_body = [\n",
    "    { \"measurement\":'ping', \"tags\": {\"host\": \"us\"}, \"fields\": {\"value\": \"222\"} },\n",
    "    { \"measurement\":'ping', \"tags\": {\"host\": \"cn\"}, \"fields\": {\"value\": \"6\"} },\n",
    "]\n",
    "client.write_points(json_body)"
   ]
  },
  {
   "cell_type": "code",
   "execution_count": 5,
   "metadata": {},
   "outputs": [
    {
     "data": {
      "text/plain": [
       "ResultSet({'('ping', None)': [{'time': '2019-05-09T04:19:41.886685314Z', 'host': 'cn', 'value': '5'}, {'time': '2019-05-09T04:19:41.886685314Z', 'host': 'us', 'value': '160'}, {'time': '2019-05-09T04:23:15.279807973Z', 'host': 'cn', 'value': '6'}, {'time': '2019-05-09T04:23:15.279807973Z', 'host': 'us', 'value': '222'}]})"
      ]
     },
     "execution_count": 5,
     "metadata": {},
     "output_type": "execute_result"
    }
   ],
   "source": [
    "results = client.query\\\n",
    "    (f'SELECT \"host\",\"value\" FROM \"{db_name}\".\"autogen\".\"ping\" WHERE time > now() - 4d')\n",
    "results"
   ]
  },
  {
   "cell_type": "code",
   "execution_count": 48,
   "metadata": {},
   "outputs": [
    {
     "data": {
      "text/plain": [
       "{'series': [{'columns': ['time', 'host', 'value'],\n",
       "   'name': 'ping',\n",
       "   'values': [['2019-05-09T04:19:41.886685314Z', 'cn', '5'],\n",
       "    ['2019-05-09T04:19:41.886685314Z', 'us', '160'],\n",
       "    ['2019-05-09T04:23:15.279807973Z', 'cn', '6'],\n",
       "    ['2019-05-09T04:23:15.279807973Z', 'us', '222']]}],\n",
       " 'statement_id': 0}"
      ]
     },
     "execution_count": 48,
     "metadata": {},
     "output_type": "execute_result"
    }
   ],
   "source": [
    "results.raw"
   ]
  },
  {
   "cell_type": "code",
   "execution_count": 49,
   "metadata": {},
   "outputs": [
    {
     "data": {
      "text/plain": [
       "[{'host': 'cn', 'time': '2019-05-09T04:19:41.886685314Z', 'value': '5'},\n",
       " {'host': 'us', 'time': '2019-05-09T04:19:41.886685314Z', 'value': '160'},\n",
       " {'host': 'cn', 'time': '2019-05-09T04:23:15.279807973Z', 'value': '6'},\n",
       " {'host': 'us', 'time': '2019-05-09T04:23:15.279807973Z', 'value': '222'}]"
      ]
     },
     "execution_count": 49,
     "metadata": {},
     "output_type": "execute_result"
    }
   ],
   "source": [
    "list(results.get_points())"
   ]
  },
  {
   "cell_type": "code",
   "execution_count": 51,
   "metadata": {},
   "outputs": [
    {
     "data": {
      "text/plain": [
       "[{'host': 'cn', 'time': '2019-05-09T04:19:41.886685314Z', 'value': '5'},\n",
       " {'host': 'cn', 'time': '2019-05-09T04:23:15.279807973Z', 'value': '6'}]"
      ]
     },
     "execution_count": 51,
     "metadata": {},
     "output_type": "execute_result"
    }
   ],
   "source": [
    "list(results.get_points(tags={'host': 'cn'}))"
   ]
  }
 ],
 "metadata": {
  "kernelspec": {
   "display_name": "Python 3",
   "language": "python",
   "name": "python3"
  },
  "language_info": {
   "codemirror_mode": {
    "name": "ipython",
    "version": 3
   },
   "file_extension": ".py",
   "mimetype": "text/x-python",
   "name": "python",
   "nbconvert_exporter": "python",
   "pygments_lexer": "ipython3",
   "version": "3.6.3"
  }
 },
 "nbformat": 4,
 "nbformat_minor": 2
}
