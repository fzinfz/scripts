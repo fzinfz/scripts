{
 "cells": [
  {
   "cell_type": "markdown",
   "metadata": {},
   "source": [
    "https://docs.celeryproject.org/en/latest/getting-started/brokers/index.html#broker-overview  \n",
    "\n",
    "|Name|Status|Monitoring|Remote Control|\n",
    "|---|---|---|---|\n",
    "|RabbitMQ|Stable|Yes|Yes|\n",
    "|Redis|Stable|Yes|Yes|\n",
    "|Amazon SQS|Stable|No|No|\n",
    "|Zookeeper|Experimental|No|No|\n",
    "\n",
    "https://docs.celeryproject.org/en/latest/userguide/tasks.html#task-result-backends  \n",
    "built-in: SQLAlchemy/Django ORM, Memcached, RabbitMQ/QPid (rpc), and Redis"
   ]
  },
  {
   "cell_type": "markdown",
   "metadata": {},
   "source": [
    "https://docs.celeryproject.org/en/latest/getting-started/first-steps-with-celery.html#application\n",
    "\n",
    "    celery -A tasks worker --loglevel=info  # restart if changes\n",
    "\n",
    "https://flower.readthedocs.io/en/latest/install.html#usage\n",
    "\n",
    "    flower -A tasks --port=5555 # http"
   ]
  },
  {
   "cell_type": "code",
   "execution_count": 138,
   "metadata": {},
   "outputs": [
    {
     "name": "stdout",
     "output_type": "stream",
     "text": [
      "from celery import Celery\r\n",
      "\r\n",
      "# backend: optional, supports .get()\r\n",
      "app = Celery('tasks', backend='amqp', broker='amqp://guest@localhost//')\r\n",
      "\r\n",
      "import time\r\n",
      "\r\n",
      "@app.task\r\n",
      "def add(x, y, sleep_time=1):\r\n",
      "    print(f\"sleep {sleep_time}s\") # no output with delay(), use logging instead\r\n",
      "    time.sleep(sleep_time)\r\n",
      "    return x + y\r\n",
      "\r\n",
      "@app.task\r\n",
      "def get_type(obj):\r\n",
      "    return str(type(obj))\r\n",
      "\r\n",
      "@app.task\r\n",
      "def return_same(obj):\r\n",
      "    return obj"
     ]
    }
   ],
   "source": [
    "!cat tasks.py"
   ]
  },
  {
   "cell_type": "code",
   "execution_count": 139,
   "metadata": {},
   "outputs": [
    {
     "name": "stdout",
     "output_type": "stream",
     "text": [
      "The autoreload extension is already loaded. To reload it, use:\n",
      "  %reload_ext autoreload\n"
     ]
    },
    {
     "data": {
      "text/plain": [
       "<celery.backends.amqp.AMQPBackend at 0x7fa7827dafd0>"
      ]
     },
     "execution_count": 139,
     "metadata": {},
     "output_type": "execute_result"
    }
   ],
   "source": [
    "%load_ext autoreload\n",
    "%autoreload 2\n",
    "    \n",
    "from tasks import *\n",
    "import sys, datetime\n",
    "\n",
    "app.backend"
   ]
  },
  {
   "cell_type": "code",
   "execution_count": 140,
   "metadata": {},
   "outputs": [
    {
     "data": {
      "text/plain": [
       "<Connection: amqp://guest:**@localhost:5672// at 0x7fa782eb3438>"
      ]
     },
     "execution_count": 140,
     "metadata": {},
     "output_type": "execute_result"
    }
   ],
   "source": [
    "app.broker_connection()"
   ]
  },
  {
   "cell_type": "code",
   "execution_count": 141,
   "metadata": {},
   "outputs": [
    {
     "name": "stdout",
     "output_type": "stream",
     "text": [
      "sleep 1s\n"
     ]
    },
    {
     "data": {
      "text/plain": [
       "8"
      ]
     },
     "execution_count": 141,
     "metadata": {},
     "output_type": "execute_result"
    }
   ],
   "source": [
    "add(4,4) # work as normal function"
   ]
  },
  {
   "cell_type": "code",
   "execution_count": 142,
   "metadata": {},
   "outputs": [
    {
     "name": "stdout",
     "output_type": "stream",
     "text": [
      "False\n",
      "Exception:  <class 'celery.exceptions.TimeoutError'>\n"
     ]
    }
   ],
   "source": [
    "result = add.delay(4, 4, sleep_time=3)\n",
    "try:\n",
    "    print(result.ready())\n",
    "    result.get(timeout=1)\n",
    "except:\n",
    "    print(\"Exception: \", sys.exc_info()[0])"
   ]
  },
  {
   "cell_type": "code",
   "execution_count": 143,
   "metadata": {},
   "outputs": [
    {
     "name": "stdout",
     "output_type": "stream",
     "text": [
      "False\n",
      "2019-05-02 14:17:06.197627\n",
      "2019-05-02 14:17:11.252982\n",
      "True\n"
     ]
    }
   ],
   "source": [
    "result = add.delay(4, 4, sleep_time=5)\n",
    "print(result.ready())\n",
    "try:\n",
    "    print(datetime.datetime.now())\n",
    "    result.get()\n",
    "    print(datetime.datetime.now())\n",
    "    print(result.ready())\n",
    "except:\n",
    "    print(\"Exception: \", sys.exc_info()[0])"
   ]
  },
  {
   "cell_type": "code",
   "execution_count": 144,
   "metadata": {},
   "outputs": [
    {
     "data": {
      "text/plain": [
       "8"
      ]
     },
     "execution_count": 144,
     "metadata": {},
     "output_type": "execute_result"
    }
   ],
   "source": [
    "result.get()"
   ]
  },
  {
   "cell_type": "code",
   "execution_count": 145,
   "metadata": {},
   "outputs": [
    {
     "data": {
      "text/plain": [
       "{'celery.accumulate': <@task: celery.accumulate of tasks at 0x7fa783077ef0>,\n",
       " 'celery.backend_cleanup': <@task: celery.backend_cleanup of tasks at 0x7fa783077ef0>,\n",
       " 'celery.chain': <@task: celery.chain of tasks at 0x7fa783077ef0>,\n",
       " 'celery.chord': <@task: celery.chord of tasks at 0x7fa783077ef0>,\n",
       " 'celery.chord_unlock': <@task: celery.chord_unlock of tasks at 0x7fa783077ef0>,\n",
       " 'celery.chunks': <@task: celery.chunks of tasks at 0x7fa783077ef0>,\n",
       " 'celery.group': <@task: celery.group of tasks at 0x7fa783077ef0>,\n",
       " 'celery.map': <@task: celery.map of tasks at 0x7fa783077ef0>,\n",
       " 'celery.starmap': <@task: celery.starmap of tasks at 0x7fa783077ef0>,\n",
       " 'tasks.add': <@task: tasks.add of tasks at 0x7fa783077ef0>,\n",
       " 'tasks.get_type': <@task: tasks.get_type of tasks at 0x7fa783077ef0>,\n",
       " 'tasks.print_obj': <@task: tasks.print_obj of tasks at 0x7fa783077ef0>,\n",
       " 'tasks.return_same': <@task: tasks.return_same of tasks at 0x7fa783077ef0>}"
      ]
     },
     "execution_count": 145,
     "metadata": {},
     "output_type": "execute_result"
    }
   ],
   "source": [
    "app.tasks"
   ]
  },
  {
   "cell_type": "code",
   "execution_count": 146,
   "metadata": {},
   "outputs": [
    {
     "ename": "NameError",
     "evalue": "name 'print_obj' is not defined",
     "output_type": "error",
     "traceback": [
      "\u001b[0;31m---------------------------------------------------------------------------\u001b[0m",
      "\u001b[0;31mNameError\u001b[0m                                 Traceback (most recent call last)",
      "\u001b[0;32m<ipython-input-146-c19b31721b77>\u001b[0m in \u001b[0;36m<module>\u001b[0;34m()\u001b[0m\n\u001b[0;32m----> 1\u001b[0;31m \u001b[0mprint_obj\u001b[0m\u001b[0;34m\u001b[0m\u001b[0m\n\u001b[0m",
      "\u001b[0;31mNameError\u001b[0m: name 'print_obj' is not defined"
     ]
    }
   ],
   "source": [
    "print_obj"
   ]
  },
  {
   "cell_type": "code",
   "execution_count": 147,
   "metadata": {},
   "outputs": [
    {
     "name": "stdout",
     "output_type": "stream",
     "text": [
      "still can use after delete from .py\n"
     ]
    }
   ],
   "source": [
    "app.tasks['tasks.print_obj'](\"still can use after delete from .py\")"
   ]
  },
  {
   "cell_type": "code",
   "execution_count": 148,
   "metadata": {},
   "outputs": [
    {
     "data": {
      "text/plain": [
       "\"<class 'pandas.core.frame.DataFrame'>\""
      ]
     },
     "execution_count": 148,
     "metadata": {},
     "output_type": "execute_result"
    }
   ],
   "source": [
    "from pandas import DataFrame as pd\n",
    "df = pd.from_records([{\"a\":1,\"b\":2},{\"a\":3,\"b\":4}])\n",
    "get_type(df)"
   ]
  },
  {
   "cell_type": "code",
   "execution_count": 149,
   "metadata": {
    "scrolled": false
   },
   "outputs": [
    {
     "name": "stdout",
     "output_type": "stream",
     "text": [
      "{\"a\":{\"0\":1,\"1\":3},\"b\":{\"0\":2,\"1\":4}}\n"
     ]
    }
   ],
   "source": [
    "# Exception:  <class 'kombu.exceptions.EncodeError'>\n",
    "j = df\n",
    "j = df.to_dict() \n",
    "j = df.to_records()\n",
    "\n",
    "# works\n",
    "j = df.to_csv() \n",
    "j = df.to_json()\n",
    "\n",
    "try:\n",
    "    r = return_same.delay(j)\n",
    "    print(r.get())\n",
    "except:\n",
    "    print(\"Exception: \", sys.exc_info()[0])"
   ]
  },
  {
   "cell_type": "code",
   "execution_count": 150,
   "metadata": {},
   "outputs": [
    {
     "data": {
      "text/html": [
       "<div>\n",
       "<style>\n",
       "    .dataframe thead tr:only-child th {\n",
       "        text-align: right;\n",
       "    }\n",
       "\n",
       "    .dataframe thead th {\n",
       "        text-align: left;\n",
       "    }\n",
       "\n",
       "    .dataframe tbody tr th {\n",
       "        vertical-align: top;\n",
       "    }\n",
       "</style>\n",
       "<table border=\"1\" class=\"dataframe\">\n",
       "  <thead>\n",
       "    <tr style=\"text-align: right;\">\n",
       "      <th></th>\n",
       "      <th>a</th>\n",
       "      <th>b</th>\n",
       "    </tr>\n",
       "  </thead>\n",
       "  <tbody>\n",
       "    <tr>\n",
       "      <th>0</th>\n",
       "      <td>1</td>\n",
       "      <td>2</td>\n",
       "    </tr>\n",
       "    <tr>\n",
       "      <th>1</th>\n",
       "      <td>3</td>\n",
       "      <td>4</td>\n",
       "    </tr>\n",
       "  </tbody>\n",
       "</table>\n",
       "</div>"
      ],
      "text/plain": [
       "   a  b\n",
       "0  1  2\n",
       "1  3  4"
      ]
     },
     "execution_count": 150,
     "metadata": {},
     "output_type": "execute_result"
    }
   ],
   "source": [
    "import pandas\n",
    "pandas.read_json(r.get())"
   ]
  }
 ],
 "metadata": {
  "kernelspec": {
   "display_name": "Python 3",
   "language": "python",
   "name": "python3"
  },
  "language_info": {
   "codemirror_mode": {
    "name": "ipython",
    "version": 3
   },
   "file_extension": ".py",
   "mimetype": "text/x-python",
   "name": "python",
   "nbconvert_exporter": "python",
   "pygments_lexer": "ipython3",
   "version": "3.6.3"
  }
 },
 "nbformat": 4,
 "nbformat_minor": 2
}
