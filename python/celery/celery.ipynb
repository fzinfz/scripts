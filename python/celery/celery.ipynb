{
 "cells": [
  {
   "cell_type": "markdown",
   "metadata": {},
   "source": [
    "https://docs.celeryproject.org/en/latest/getting-started/brokers/index.html#broker-overview  \n",
    "\n",
    "|Name|Status|Monitoring|Remote Control|\n",
    "|---|---|---|---|\n",
    "|RabbitMQ|Stable|Yes|Yes|\n",
    "|Redis|Stable|Yes|Yes|\n",
    "|Amazon SQS|Stable|No|No|\n",
    "|Zookeeper|Experimental|No|No|\n",
    "\n",
    "https://docs.celeryproject.org/en/latest/userguide/tasks.html#task-result-backends  \n",
    "built-in: SQLAlchemy/Django ORM, Memcached, RabbitMQ/QPid (rpc), and Redis"
   ]
  },
  {
   "cell_type": "markdown",
   "metadata": {},
   "source": [
    "https://docs.celeryproject.org/en/latest/getting-started/first-steps-with-celery.html#application\n",
    "\n",
    "    celery -A tasks worker --loglevel=info\n",
    "\n",
    "https://flower.readthedocs.io/en/latest/install.html#usage\n",
    "\n",
    "    flower -A tasks --port=5555 # http"
   ]
  },
  {
   "cell_type": "code",
   "execution_count": 8,
   "metadata": {},
   "outputs": [
    {
     "data": {
      "text/plain": [
       "<AsyncResult: c0b03a65-e25f-4f1e-be3a-5e76c444c77d>"
      ]
     },
     "execution_count": 8,
     "metadata": {},
     "output_type": "execute_result"
    }
   ],
   "source": [
    "from tasks import add\n",
    "add.delay(4, 4)"
   ]
  },
  {
   "cell_type": "code",
   "execution_count": 4,
   "metadata": {},
   "outputs": [],
   "source": [
    "from celery import Celery\n",
    "\n",
    "app = Celery('tasks', broker='pyamqp://guest@localhost//')"
   ]
  },
  {
   "cell_type": "code",
   "execution_count": 5,
   "metadata": {},
   "outputs": [
    {
     "data": {
      "text/plain": [
       "<Celery tasks at 0x7fa69a22e860>"
      ]
     },
     "execution_count": 5,
     "metadata": {},
     "output_type": "execute_result"
    }
   ],
   "source": [
    "app"
   ]
  },
  {
   "cell_type": "code",
   "execution_count": 6,
   "metadata": {},
   "outputs": [
    {
     "data": {
      "text/plain": [
       "{'celery.accumulate': <@task: celery.accumulate of tasks at 0x7fa69a22e860>,\n",
       " 'celery.backend_cleanup': <@task: celery.backend_cleanup of tasks at 0x7fa69a22e860>,\n",
       " 'celery.chain': <@task: celery.chain of tasks at 0x7fa69a22e860>,\n",
       " 'celery.chord': <@task: celery.chord of tasks at 0x7fa69a22e860>,\n",
       " 'celery.chord_unlock': <@task: celery.chord_unlock of tasks at 0x7fa69a22e860>,\n",
       " 'celery.chunks': <@task: celery.chunks of tasks at 0x7fa69a22e860>,\n",
       " 'celery.group': <@task: celery.group of tasks at 0x7fa69a22e860>,\n",
       " 'celery.map': <@task: celery.map of tasks at 0x7fa69a22e860>,\n",
       " 'celery.starmap': <@task: celery.starmap of tasks at 0x7fa69a22e860>,\n",
       " 'tasks.add': <@task: tasks.add of tasks at 0x7fa69a22e860>}"
      ]
     },
     "execution_count": 6,
     "metadata": {},
     "output_type": "execute_result"
    }
   ],
   "source": [
    "app.tasks"
   ]
  }
 ],
 "metadata": {
  "kernelspec": {
   "display_name": "Python 3",
   "language": "python",
   "name": "python3"
  },
  "language_info": {
   "codemirror_mode": {
    "name": "ipython",
    "version": 3
   },
   "file_extension": ".py",
   "mimetype": "text/x-python",
   "name": "python",
   "nbconvert_exporter": "python",
   "pygments_lexer": "ipython3",
   "version": "3.6.3"
  }
 },
 "nbformat": 4,
 "nbformat_minor": 2
}
