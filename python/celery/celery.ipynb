{
 "cells": [
  {
   "cell_type": "markdown",
   "metadata": {},
   "source": [
    "https://docs.celeryproject.org/en/latest/getting-started/brokers/index.html#broker-overview  \n",
    "\n",
    "|Name|Status|Monitoring|Remote Control|\n",
    "|---|---|---|---|\n",
    "|RabbitMQ|Stable|Yes|Yes|\n",
    "|Redis|Stable|Yes|Yes|\n",
    "|Amazon SQS|Stable|No|No|\n",
    "|Zookeeper|Experimental|No|No|\n",
    "\n",
    "https://docs.celeryproject.org/en/latest/userguide/tasks.html#task-result-backends  \n",
    "built-in: SQLAlchemy/Django ORM, Memcached, RabbitMQ/QPid (rpc), and Redis"
   ]
  },
  {
   "cell_type": "markdown",
   "metadata": {},
   "source": [
    "https://docs.celeryproject.org/en/latest/getting-started/first-steps-with-celery.html#application\n",
    "\n",
    "    celery -A tasks worker --loglevel=info  # restart if changes\n",
    "\n",
    "https://flower.readthedocs.io/en/latest/install.html#usage\n",
    "\n",
    "    flower -A tasks --port=5555 # http"
   ]
  },
  {
   "cell_type": "code",
   "execution_count": 97,
   "metadata": {},
   "outputs": [
    {
     "name": "stdout",
     "output_type": "stream",
     "text": [
      "from celery import Celery\r\n",
      "\r\n",
      "app = Celery('tasks', backend='amqp', broker='amqp://guest@localhost//') # backend: optional\r\n",
      "\r\n",
      "import time\r\n",
      "\r\n",
      "@app.task\r\n",
      "def add(x, y, sleep_time=1):\r\n",
      "    print(f\"sleep {sleep_time}s\") # no output, use logging instead\r\n",
      "    time.sleep(sleep_time)\r\n",
      "    return x + y\r\n",
      "\r\n"
     ]
    }
   ],
   "source": [
    "!cat tasks.py"
   ]
  },
  {
   "cell_type": "code",
   "execution_count": 89,
   "metadata": {},
   "outputs": [
    {
     "name": "stdout",
     "output_type": "stream",
     "text": [
      "The autoreload extension is already loaded. To reload it, use:\n",
      "  %reload_ext autoreload\n",
      "False\n",
      "Exception:  <class 'celery.exceptions.TimeoutError'>\n"
     ]
    }
   ],
   "source": [
    "%load_ext autoreload\n",
    "%autoreload 2\n",
    "    \n",
    "from tasks import *\n",
    "import sys, datetime\n",
    "\n",
    "result = add.delay(4, 4, sleep_time=3)\n",
    "print(result.ready())\n",
    "try:\n",
    "    result.get(timeout=1)\n",
    "except:\n",
    "    print(\"Exception: \", sys.exc_info()[0])"
   ]
  },
  {
   "cell_type": "code",
   "execution_count": 90,
   "metadata": {},
   "outputs": [
    {
     "name": "stdout",
     "output_type": "stream",
     "text": [
      "False\n",
      "2019-05-02 13:06:12.536567\n",
      "2019-05-02 13:06:17.547183\n",
      "True\n"
     ]
    }
   ],
   "source": [
    "result = add.delay(4, 4, sleep_time=5)\n",
    "print(result.ready())\n",
    "try:\n",
    "    print(datetime.datetime.now())\n",
    "    result.get()\n",
    "    print(datetime.datetime.now())\n",
    "    print(result.ready())\n",
    "except:\n",
    "    print(\"Exception: \", sys.exc_info()[0])"
   ]
  },
  {
   "cell_type": "code",
   "execution_count": 77,
   "metadata": {},
   "outputs": [
    {
     "data": {
      "text/plain": [
       "8"
      ]
     },
     "execution_count": 77,
     "metadata": {},
     "output_type": "execute_result"
    }
   ],
   "source": [
    "result.get()"
   ]
  },
  {
   "cell_type": "code",
   "execution_count": 71,
   "metadata": {},
   "outputs": [
    {
     "data": {
      "text/plain": [
       "<celery.backends.amqp.AMQPBackend at 0x7fbd94a0d080>"
      ]
     },
     "execution_count": 71,
     "metadata": {},
     "output_type": "execute_result"
    }
   ],
   "source": [
    "app.backend"
   ]
  },
  {
   "cell_type": "code",
   "execution_count": 68,
   "metadata": {},
   "outputs": [
    {
     "data": {
      "text/plain": [
       "<Connection: amqp://guest:**@localhost:5672// at 0x7fbd94a72278>"
      ]
     },
     "execution_count": 68,
     "metadata": {},
     "output_type": "execute_result"
    }
   ],
   "source": [
    "app.broker_connection()"
   ]
  },
  {
   "cell_type": "code",
   "execution_count": 91,
   "metadata": {},
   "outputs": [
    {
     "data": {
      "text/plain": [
       "{'celery.accumulate': <@task: celery.accumulate of tasks at 0x7fbd94a64940>,\n",
       " 'celery.backend_cleanup': <@task: celery.backend_cleanup of tasks at 0x7fbd94a64940>,\n",
       " 'celery.chain': <@task: celery.chain of tasks at 0x7fbd94a64940>,\n",
       " 'celery.chord': <@task: celery.chord of tasks at 0x7fbd94a64940>,\n",
       " 'celery.chord_unlock': <@task: celery.chord_unlock of tasks at 0x7fbd94a64940>,\n",
       " 'celery.chunks': <@task: celery.chunks of tasks at 0x7fbd94a64940>,\n",
       " 'celery.group': <@task: celery.group of tasks at 0x7fbd94a64940>,\n",
       " 'celery.map': <@task: celery.map of tasks at 0x7fbd94a64940>,\n",
       " 'celery.starmap': <@task: celery.starmap of tasks at 0x7fbd94a64940>,\n",
       " 'tasks.add': <@task: tasks.add of tasks at 0x7fbd94a64940>}"
      ]
     },
     "execution_count": 91,
     "metadata": {},
     "output_type": "execute_result"
    }
   ],
   "source": [
    "app.tasks"
   ]
  },
  {
   "cell_type": "code",
   "execution_count": 92,
   "metadata": {},
   "outputs": [
    {
     "data": {
      "text/plain": [
       "<@task: tasks.add of tasks at 0x7fbd94a64940>"
      ]
     },
     "execution_count": 92,
     "metadata": {},
     "output_type": "execute_result"
    }
   ],
   "source": [
    "app.tasks['tasks.add']"
   ]
  }
 ],
 "metadata": {
  "kernelspec": {
   "display_name": "Python 3",
   "language": "python",
   "name": "python3"
  },
  "language_info": {
   "codemirror_mode": {
    "name": "ipython",
    "version": 3
   },
   "file_extension": ".py",
   "mimetype": "text/x-python",
   "name": "python",
   "nbconvert_exporter": "python",
   "pygments_lexer": "ipython3",
   "version": "3.6.3"
  }
 },
 "nbformat": 4,
 "nbformat_minor": 2
}
