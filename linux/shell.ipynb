{
 "cells": [
  {
   "cell_type": "code",
   "execution_count": 62,
   "metadata": {},
   "outputs": [
    {
     "name": "stdout",
     "output_type": "stream",
     "text": [
      "a b c d  e\n",
      "\\n line 1\n",
      "\n",
      "  line 2\n",
      "\n",
      "    line 3\n"
     ]
    }
   ],
   "source": [
    "echo a b  c \"d  e\"\n",
    "echo '\\n line 1'\n",
    "echo -e '\\n  line 2'\n",
    "echo $'\\n    line 3'"
   ]
  },
  {
   "cell_type": "code",
   "execution_count": 100,
   "metadata": {},
   "outputs": [
    {
     "name": "stdout",
     "output_type": "stream",
     "text": [
      "test1\n",
      "-rwxr-xr-x 1 root root  580 Oct 24 14:46 sshd-enable--port--RootPassword.sh\n"
     ]
    }
   ],
   "source": [
    "cat >/tmp/test1 <<ANTTAG\n",
    "echo \"test1\"\n",
    "ls -l | tail -1\n",
    "ANTTAG\n",
    "\n",
    "for line in $(cat /tmp/test1);do eval $line; done"
   ]
  },
  {
   "cell_type": "markdown",
   "metadata": {},
   "source": [
    "# Special Parameters\n",
    "https://www.gnu.org/software/bash/manual/bashref.html#Special-Parameters"
   ]
  },
  {
   "cell_type": "code",
   "execution_count": 95,
   "metadata": {},
   "outputs": [
    {
     "name": "stdout",
     "output_type": "stream",
     "text": [
      "$#: 2 \n",
      "    parameters count\n",
      "echo ls -l\n",
      "echo\tls -l\n",
      "echo ls -l\n",
      "echo ls -l\n"
     ]
    }
   ],
   "source": [
    "set echo \"ls -l\"\n",
    "echo '$#': $# $'\\n    'parameters count\n",
    "IFS=$'\\t'\n",
    "echo $*\n",
    "echo \"$*\"\n",
    "echo $@\n",
    "echo \"$@\""
   ]
  },
  {
   "cell_type": "code",
   "execution_count": 96,
   "metadata": {},
   "outputs": [
    {
     "name": "stdout",
     "output_type": "stream",
     "text": [
      "ls -l\n",
      "ls -l\n"
     ]
    }
   ],
   "source": [
    "eval $@ \n",
    "eval \"$@\" "
   ]
  },
  {
   "cell_type": "code",
   "execution_count": 97,
   "metadata": {},
   "outputs": [
    {
     "name": "stdout",
     "output_type": "stream",
     "text": [
      "$?: 0 \n",
      "    exit status of the most recently executed foreground pipeline.\n",
      "$-: himBHs \n",
      "    get set flags\n"
     ]
    }
   ],
   "source": [
    "echo '$?': $? $'\\n    'exit status of the most recently executed foreground pipeline.\n",
    "echo '$-': $- $'\\n    'get set flags"
   ]
  },
  {
   "cell_type": "code",
   "execution_count": 43,
   "metadata": {},
   "outputs": [
    {
     "name": "stdout",
     "output_type": "stream",
     "text": [
      "$0: /bin/bash \n",
      "    name of the shell or shell script\n"
     ]
    }
   ],
   "source": [
    "echo '$0': $0 $'\\n    'name of the shell or shell script"
   ]
  },
  {
   "cell_type": "code",
   "execution_count": 58,
   "metadata": {},
   "outputs": [
    {
     "name": "stdout",
     "output_type": "stream",
     "text": [
      "0\n",
      "test\n",
      "test\n"
     ]
    }
   ],
   "source": [
    "# https://unix.stackexchange.com/questions/280453\n",
    "echo \"$_\"\n",
    "echo \"test\"\n",
    "echo \"$_\""
   ]
  },
  {
   "cell_type": "code",
   "execution_count": 105,
   "metadata": {},
   "outputs": [
    {
     "name": "stdout",
     "output_type": "stream",
     "text": [
      "root       430   410  0 Feb04 pts/2    00:00:00 /bin/bash --rcfile /opt/conda/lib/python3.7/site-packages/pexpect/bashrc.sh\n",
      "root       491   430  0 13:16 pts/2    00:00:00 ps -ef\n",
      "root       492   430  0 13:16 pts/2    00:00:00 grep 430\n"
     ]
    }
   ],
   "source": [
    "ps -ef | grep \"$$\" # process ID of the invoking shell, not the subshell."
   ]
  },
  {
   "cell_type": "code",
   "execution_count": 107,
   "metadata": {},
   "outputs": [
    {
     "name": "stdout",
     "output_type": "stream",
     "text": [
      "root       430   410  0 Feb04 pts/2    00:00:00 /bin/bash --rcfile /opt/conda/lib/python3.7/site-packages/pexpect/bashrc.sh\n",
      "root       494   430  0 13:17 pts/2    00:00:00 /bin/bash --rcfile /opt/conda/lib/python3.7/site-packages/pexpect/bashrc.sh\n",
      "root       497   495  0 13:17 pts/2    00:00:00 grep 430\n"
     ]
    }
   ],
   "source": [
    "cat <<ANTTAG\n",
    "`ps -ef | grep \"$$\" `\n",
    "ANTTAG"
   ]
  },
  {
   "cell_type": "code",
   "execution_count": 60,
   "metadata": {},
   "outputs": [
    {
     "name": "stdout",
     "output_type": "stream",
     "text": [
      "$!:\n"
     ]
    }
   ],
   "source": [
    "echo '$!': $!  # process ID of the job most recently placed into the background"
   ]
  }
 ],
 "metadata": {
  "kernelspec": {
   "display_name": "Bash",
   "language": "bash",
   "name": "bash"
  },
  "language_info": {
   "codemirror_mode": "shell",
   "file_extension": ".sh",
   "mimetype": "text/x-sh",
   "name": "bash"
  }
 },
 "nbformat": 4,
 "nbformat_minor": 2
}
